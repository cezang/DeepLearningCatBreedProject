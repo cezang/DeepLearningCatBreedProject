{
 "cells": [
  {
   "cell_type": "code",
   "execution_count": 0,
   "metadata": {
    "colab": {
     "base_uri": "https://localhost:8080/",
     "height": 34
    },
    "colab_type": "code",
    "id": "Wi4JhIbvRNys",
    "outputId": "3695b21c-e63a-4d95-f9c0-3854e35e6d62"
   },
   "outputs": [
    {
     "name": "stdout",
     "output_type": "stream",
     "text": [
      "Drive already mounted at /content/drive; to attempt to forcibly remount, call drive.mount(\"/content/drive\", force_remount=True).\n"
     ]
    }
   ],
   "source": [
    "from google.colab import drive\n",
    "drive.mount('/content/drive')"
   ]
  },
  {
   "cell_type": "code",
   "execution_count": 0,
   "metadata": {
    "colab": {},
    "colab_type": "code",
    "id": "ZIfm1HW5SVMl"
   },
   "outputs": [],
   "source": [
    "import os\n",
    "os.chdir('/content/drive/My Drive/Colab Notebooks')"
   ]
  },
  {
   "cell_type": "code",
   "execution_count": 0,
   "metadata": {
    "colab": {},
    "colab_type": "code",
    "id": "U3vrqWQlTrlZ"
   },
   "outputs": [],
   "source": [
    "#train-val folder\n",
    "base = r'/content/drive/My Drive/Colab Notebooks/selected'\n",
    "train_dir = os.path.join(base, 'train')\n",
    "validation_dir = os.path.join(base, 'validation')\n",
    "test_dir = os.path.join(base, 'test')"
   ]
  },
  {
   "cell_type": "code",
   "execution_count": 0,
   "metadata": {
    "colab": {
     "base_uri": "https://localhost:8080/",
     "height": 51
    },
    "colab_type": "code",
    "id": "OEoPMlMBU-7P",
    "outputId": "027ad102-33a4-496f-c6bc-b17eb79383fb"
   },
   "outputs": [
    {
     "name": "stdout",
     "output_type": "stream",
     "text": [
      "TensorFlow 2.x selected.\n",
      "Found GPU at: /device:GPU:0\n"
     ]
    }
   ],
   "source": [
    "%tensorflow_version 2.x\n",
    "import tensorflow as tf\n",
    "device_name = tf.test.gpu_device_name()\n",
    "if device_name != '/device:GPU:0':\n",
    "  raise SystemError('GPU device not found')\n",
    "print('Found GPU at: {}'.format(device_name))"
   ]
  },
  {
   "cell_type": "code",
   "execution_count": 0,
   "metadata": {
    "colab": {},
    "colab_type": "code",
    "id": "c8RZUevPWnbv"
   },
   "outputs": [],
   "source": [
    "from tensorflow.keras import layers\n",
    "from tensorflow.keras import models\n",
    "from tensorflow.keras import optimizers\n",
    "model = models.Sequential()\n",
    "model.add(layers.Conv2D(32, (3, 3), activation='relu',\n",
    "                        input_shape=(150, 150, 3)))\n",
    "model.add(layers.MaxPooling2D((2, 2)))\n",
    "model.add(layers.Conv2D(64, (3, 3), activation='relu'))\n",
    "model.add(layers.MaxPooling2D((2, 2)))\n",
    "model.add(layers.Conv2D(128, (3, 3), activation='relu'))\n",
    "model.add(layers.MaxPooling2D((2, 2)))\n",
    "model.add(layers.Conv2D(128, (3, 3), activation='relu'))\n",
    "model.add(layers.MaxPooling2D((2, 2)))\n",
    "model.add(layers.Flatten())\n",
    "model.add(layers.Dropout(0.5))\n",
    "model.add(layers.Dense(512, activation='relu'))\n",
    "model.add(layers.Dense(4, activation='softmax'))\n",
    "\n",
    "model.compile(loss='categorical_crossentropy',\n",
    "              optimizer=optimizers.RMSprop(lr=1e-4),\n",
    "              metrics=['acc'])"
   ]
  },
  {
   "cell_type": "code",
   "execution_count": 0,
   "metadata": {
    "colab": {
     "base_uri": "https://localhost:8080/",
     "height": 561
    },
    "colab_type": "code",
    "id": "rptf3CJqXCna",
    "outputId": "3bdb7fe9-243a-4c50-873c-5e2a1b19c4b6"
   },
   "outputs": [
    {
     "name": "stdout",
     "output_type": "stream",
     "text": [
      "Model: \"sequential_1\"\n",
      "_________________________________________________________________\n",
      "Layer (type)                 Output Shape              Param #   \n",
      "=================================================================\n",
      "conv2d_4 (Conv2D)            (None, 148, 148, 32)      896       \n",
      "_________________________________________________________________\n",
      "max_pooling2d_4 (MaxPooling2 (None, 74, 74, 32)        0         \n",
      "_________________________________________________________________\n",
      "conv2d_5 (Conv2D)            (None, 72, 72, 64)        18496     \n",
      "_________________________________________________________________\n",
      "max_pooling2d_5 (MaxPooling2 (None, 36, 36, 64)        0         \n",
      "_________________________________________________________________\n",
      "conv2d_6 (Conv2D)            (None, 34, 34, 128)       73856     \n",
      "_________________________________________________________________\n",
      "max_pooling2d_6 (MaxPooling2 (None, 17, 17, 128)       0         \n",
      "_________________________________________________________________\n",
      "conv2d_7 (Conv2D)            (None, 15, 15, 128)       147584    \n",
      "_________________________________________________________________\n",
      "max_pooling2d_7 (MaxPooling2 (None, 7, 7, 128)         0         \n",
      "_________________________________________________________________\n",
      "flatten_1 (Flatten)          (None, 6272)              0         \n",
      "_________________________________________________________________\n",
      "dropout (Dropout)            (None, 6272)              0         \n",
      "_________________________________________________________________\n",
      "dense_2 (Dense)              (None, 512)               3211776   \n",
      "_________________________________________________________________\n",
      "dense_3 (Dense)              (None, 4)                 2052      \n",
      "=================================================================\n",
      "Total params: 3,454,660\n",
      "Trainable params: 3,454,660\n",
      "Non-trainable params: 0\n",
      "_________________________________________________________________\n"
     ]
    }
   ],
   "source": [
    "model.summary()"
   ]
  },
  {
   "cell_type": "code",
   "execution_count": 0,
   "metadata": {
    "colab": {
     "base_uri": "https://localhost:8080/",
     "height": 1000
    },
    "colab_type": "code",
    "id": "mGOTiK2fXEqR",
    "outputId": "1ebdb25d-c40a-4e35-e66f-c3a9bd3ae7b8"
   },
   "outputs": [
    {
     "name": "stdout",
     "output_type": "stream",
     "text": [
      "Found 4000 images belonging to 4 classes.\n",
      "Found 2000 images belonging to 4 classes.\n",
      "WARNING:tensorflow:sample_weight modes were coerced from\n",
      "  ...\n",
      "    to  \n",
      "  ['...']\n"
     ]
    },
    {
     "name": "stderr",
     "output_type": "stream",
     "text": [
      "WARNING:tensorflow:sample_weight modes were coerced from\n",
      "  ...\n",
      "    to  \n",
      "  ['...']\n"
     ]
    },
    {
     "name": "stdout",
     "output_type": "stream",
     "text": [
      "WARNING:tensorflow:sample_weight modes were coerced from\n",
      "  ...\n",
      "    to  \n",
      "  ['...']\n"
     ]
    },
    {
     "name": "stderr",
     "output_type": "stream",
     "text": [
      "WARNING:tensorflow:sample_weight modes were coerced from\n",
      "  ...\n",
      "    to  \n",
      "  ['...']\n"
     ]
    },
    {
     "name": "stdout",
     "output_type": "stream",
     "text": [
      "Train for 125 steps, validate for 62 steps\n",
      "Epoch 1/100\n",
      "125/125 [==============================] - 32s 257ms/step - loss: 0.9816 - acc: 0.5893 - val_loss: 0.9017 - val_acc: 0.6260\n",
      "Epoch 2/100\n",
      "125/125 [==============================] - 31s 249ms/step - loss: 0.9646 - acc: 0.5915 - val_loss: 1.0940 - val_acc: 0.5499\n",
      "Epoch 3/100\n",
      "125/125 [==============================] - 32s 252ms/step - loss: 0.9524 - acc: 0.5943 - val_loss: 1.0049 - val_acc: 0.5867\n",
      "Epoch 4/100\n",
      "125/125 [==============================] - 31s 252ms/step - loss: 0.9431 - acc: 0.5997 - val_loss: 0.8638 - val_acc: 0.6512\n",
      "Epoch 5/100\n",
      "125/125 [==============================] - 34s 274ms/step - loss: 0.9266 - acc: 0.6120 - val_loss: 0.8937 - val_acc: 0.6457\n",
      "Epoch 6/100\n",
      "125/125 [==============================] - 34s 272ms/step - loss: 0.9150 - acc: 0.6170 - val_loss: 0.8528 - val_acc: 0.6603\n",
      "Epoch 7/100\n",
      "125/125 [==============================] - 33s 262ms/step - loss: 0.9042 - acc: 0.6280 - val_loss: 0.9595 - val_acc: 0.6053\n",
      "Epoch 8/100\n",
      "125/125 [==============================] - 33s 260ms/step - loss: 0.8939 - acc: 0.6280 - val_loss: 0.8384 - val_acc: 0.6623\n",
      "Epoch 9/100\n",
      "125/125 [==============================] - 32s 256ms/step - loss: 0.8941 - acc: 0.6327 - val_loss: 0.8845 - val_acc: 0.6406\n",
      "Epoch 10/100\n",
      "125/125 [==============================] - 31s 252ms/step - loss: 0.8727 - acc: 0.6400 - val_loss: 0.8326 - val_acc: 0.6608\n",
      "Epoch 11/100\n",
      "125/125 [==============================] - 31s 247ms/step - loss: 0.8815 - acc: 0.6382 - val_loss: 1.0496 - val_acc: 0.5675\n",
      "Epoch 12/100\n",
      "125/125 [==============================] - 32s 253ms/step - loss: 0.8709 - acc: 0.6355 - val_loss: 0.9182 - val_acc: 0.6190\n",
      "Epoch 13/100\n",
      "125/125 [==============================] - 31s 250ms/step - loss: 0.8703 - acc: 0.6442 - val_loss: 0.9853 - val_acc: 0.6003\n",
      "Epoch 14/100\n",
      "125/125 [==============================] - 32s 255ms/step - loss: 0.8644 - acc: 0.6515 - val_loss: 0.8045 - val_acc: 0.6860\n",
      "Epoch 15/100\n",
      "125/125 [==============================] - 32s 252ms/step - loss: 0.8540 - acc: 0.6482 - val_loss: 0.8234 - val_acc: 0.6689\n",
      "Epoch 16/100\n",
      "125/125 [==============================] - 32s 259ms/step - loss: 0.8541 - acc: 0.6455 - val_loss: 0.8144 - val_acc: 0.6794\n",
      "Epoch 17/100\n",
      "125/125 [==============================] - 31s 249ms/step - loss: 0.8410 - acc: 0.6482 - val_loss: 0.9080 - val_acc: 0.6295\n",
      "Epoch 18/100\n",
      "125/125 [==============================] - 32s 253ms/step - loss: 0.8336 - acc: 0.6565 - val_loss: 0.9445 - val_acc: 0.6144\n",
      "Epoch 19/100\n",
      "125/125 [==============================] - 31s 251ms/step - loss: 0.8415 - acc: 0.6595 - val_loss: 0.9019 - val_acc: 0.6321\n",
      "Epoch 20/100\n",
      "125/125 [==============================] - 32s 253ms/step - loss: 0.8228 - acc: 0.6620 - val_loss: 0.8994 - val_acc: 0.6341\n",
      "Epoch 21/100\n",
      "125/125 [==============================] - 32s 252ms/step - loss: 0.8220 - acc: 0.6685 - val_loss: 0.7837 - val_acc: 0.6890\n",
      "Epoch 22/100\n",
      "125/125 [==============================] - 31s 248ms/step - loss: 0.8078 - acc: 0.6725 - val_loss: 0.8509 - val_acc: 0.6568\n",
      "Epoch 23/100\n",
      "125/125 [==============================] - 32s 252ms/step - loss: 0.8119 - acc: 0.6640 - val_loss: 0.8540 - val_acc: 0.6492\n",
      "Epoch 24/100\n",
      "125/125 [==============================] - 31s 250ms/step - loss: 0.8125 - acc: 0.6730 - val_loss: 0.8099 - val_acc: 0.6714\n",
      "Epoch 25/100\n",
      "125/125 [==============================] - 32s 254ms/step - loss: 0.8074 - acc: 0.6760 - val_loss: 0.8248 - val_acc: 0.6593\n",
      "Epoch 26/100\n",
      "125/125 [==============================] - 31s 252ms/step - loss: 0.8014 - acc: 0.6740 - val_loss: 0.8030 - val_acc: 0.6815\n",
      "Epoch 27/100\n",
      "125/125 [==============================] - 31s 251ms/step - loss: 0.7924 - acc: 0.6815 - val_loss: 0.7787 - val_acc: 0.6961\n",
      "Epoch 28/100\n",
      "125/125 [==============================] - 31s 251ms/step - loss: 0.7818 - acc: 0.6885 - val_loss: 0.7596 - val_acc: 0.7006\n",
      "Epoch 29/100\n",
      "125/125 [==============================] - 32s 254ms/step - loss: 0.7811 - acc: 0.6855 - val_loss: 0.8364 - val_acc: 0.6704\n",
      "Epoch 30/100\n",
      "125/125 [==============================] - 32s 252ms/step - loss: 0.7849 - acc: 0.6817 - val_loss: 0.8494 - val_acc: 0.6562\n",
      "Epoch 31/100\n",
      "125/125 [==============================] - 32s 254ms/step - loss: 0.7782 - acc: 0.6808 - val_loss: 0.7554 - val_acc: 0.7061\n",
      "Epoch 32/100\n",
      "125/125 [==============================] - 31s 250ms/step - loss: 0.7672 - acc: 0.6930 - val_loss: 0.7919 - val_acc: 0.6799\n",
      "Epoch 33/100\n",
      "125/125 [==============================] - 32s 259ms/step - loss: 0.7755 - acc: 0.6910 - val_loss: 0.7542 - val_acc: 0.7016\n",
      "Epoch 34/100\n",
      "125/125 [==============================] - 31s 246ms/step - loss: 0.7664 - acc: 0.6877 - val_loss: 0.7349 - val_acc: 0.7112\n",
      "Epoch 35/100\n",
      "125/125 [==============================] - 32s 256ms/step - loss: 0.7536 - acc: 0.6998 - val_loss: 0.7735 - val_acc: 0.7001\n",
      "Epoch 36/100\n",
      "125/125 [==============================] - 32s 253ms/step - loss: 0.7579 - acc: 0.6957 - val_loss: 0.7395 - val_acc: 0.7102\n",
      "Epoch 37/100\n",
      "125/125 [==============================] - 32s 255ms/step - loss: 0.7516 - acc: 0.7100 - val_loss: 0.7713 - val_acc: 0.6956\n",
      "Epoch 38/100\n",
      "125/125 [==============================] - 31s 252ms/step - loss: 0.7608 - acc: 0.6940 - val_loss: 0.7462 - val_acc: 0.7021\n",
      "Epoch 39/100\n",
      "125/125 [==============================] - 32s 255ms/step - loss: 0.7393 - acc: 0.7020 - val_loss: 0.8265 - val_acc: 0.6759\n",
      "Epoch 40/100\n",
      "125/125 [==============================] - 32s 254ms/step - loss: 0.7329 - acc: 0.7078 - val_loss: 0.8254 - val_acc: 0.6678\n",
      "Epoch 41/100\n",
      "125/125 [==============================] - 31s 252ms/step - loss: 0.7464 - acc: 0.7032 - val_loss: 0.7636 - val_acc: 0.6976\n",
      "Epoch 42/100\n",
      "125/125 [==============================] - 32s 255ms/step - loss: 0.7397 - acc: 0.6995 - val_loss: 0.7128 - val_acc: 0.7288\n",
      "Epoch 43/100\n",
      "125/125 [==============================] - 31s 249ms/step - loss: 0.7218 - acc: 0.7103 - val_loss: 0.7351 - val_acc: 0.7157\n",
      "Epoch 44/100\n",
      "125/125 [==============================] - 32s 255ms/step - loss: 0.7252 - acc: 0.7075 - val_loss: 0.7671 - val_acc: 0.7001\n",
      "Epoch 45/100\n",
      "125/125 [==============================] - 32s 255ms/step - loss: 0.7249 - acc: 0.7128 - val_loss: 0.8553 - val_acc: 0.6598\n",
      "Epoch 46/100\n",
      "125/125 [==============================] - 32s 254ms/step - loss: 0.7232 - acc: 0.7125 - val_loss: 0.7984 - val_acc: 0.6830\n",
      "Epoch 47/100\n",
      "125/125 [==============================] - 31s 249ms/step - loss: 0.7175 - acc: 0.7147 - val_loss: 0.8181 - val_acc: 0.6739\n",
      "Epoch 48/100\n",
      "125/125 [==============================] - 32s 254ms/step - loss: 0.7146 - acc: 0.7155 - val_loss: 0.7167 - val_acc: 0.7137\n",
      "Epoch 49/100\n",
      "125/125 [==============================] - 31s 249ms/step - loss: 0.7183 - acc: 0.7115 - val_loss: 0.7808 - val_acc: 0.6865\n",
      "Epoch 50/100\n",
      "125/125 [==============================] - 31s 251ms/step - loss: 0.7164 - acc: 0.7143 - val_loss: 0.8172 - val_acc: 0.6668\n",
      "Epoch 51/100\n",
      "125/125 [==============================] - 31s 248ms/step - loss: 0.7067 - acc: 0.7212 - val_loss: 0.7021 - val_acc: 0.7293\n",
      "Epoch 52/100\n",
      "125/125 [==============================] - 32s 253ms/step - loss: 0.6986 - acc: 0.7278 - val_loss: 0.7475 - val_acc: 0.7067\n",
      "Epoch 53/100\n",
      "125/125 [==============================] - 31s 247ms/step - loss: 0.6898 - acc: 0.7300 - val_loss: 0.7168 - val_acc: 0.7283\n",
      "Epoch 54/100\n",
      "125/125 [==============================] - 32s 255ms/step - loss: 0.7029 - acc: 0.7175 - val_loss: 0.7506 - val_acc: 0.7031\n",
      "Epoch 55/100\n",
      "125/125 [==============================] - 31s 249ms/step - loss: 0.6970 - acc: 0.7247 - val_loss: 0.7657 - val_acc: 0.7107\n",
      "Epoch 56/100\n",
      "125/125 [==============================] - 32s 257ms/step - loss: 0.6930 - acc: 0.7170 - val_loss: 0.7532 - val_acc: 0.7172\n",
      "Epoch 57/100\n",
      "125/125 [==============================] - 33s 266ms/step - loss: 0.6929 - acc: 0.7340 - val_loss: 0.7737 - val_acc: 0.6971\n",
      "Epoch 58/100\n",
      "125/125 [==============================] - 34s 273ms/step - loss: 0.6787 - acc: 0.7350 - val_loss: 0.6745 - val_acc: 0.7434\n",
      "Epoch 59/100\n",
      "125/125 [==============================] - 34s 269ms/step - loss: 0.6918 - acc: 0.7243 - val_loss: 0.7464 - val_acc: 0.7213\n",
      "Epoch 60/100\n",
      "125/125 [==============================] - 34s 268ms/step - loss: 0.6899 - acc: 0.7312 - val_loss: 0.7265 - val_acc: 0.7243\n",
      "Epoch 61/100\n",
      "125/125 [==============================] - 34s 269ms/step - loss: 0.6760 - acc: 0.7362 - val_loss: 0.7462 - val_acc: 0.7193\n",
      "Epoch 62/100\n",
      "125/125 [==============================] - 34s 269ms/step - loss: 0.6754 - acc: 0.7355 - val_loss: 0.6911 - val_acc: 0.7414\n",
      "Epoch 63/100\n",
      "125/125 [==============================] - 34s 270ms/step - loss: 0.6828 - acc: 0.7322 - val_loss: 0.6897 - val_acc: 0.7364\n",
      "Epoch 64/100\n",
      "125/125 [==============================] - 34s 272ms/step - loss: 0.6804 - acc: 0.7272 - val_loss: 0.7482 - val_acc: 0.7193\n",
      "Epoch 65/100\n",
      "125/125 [==============================] - 34s 270ms/step - loss: 0.6687 - acc: 0.7343 - val_loss: 0.7147 - val_acc: 0.7172\n",
      "Epoch 66/100\n",
      "125/125 [==============================] - 34s 270ms/step - loss: 0.6729 - acc: 0.7333 - val_loss: 0.7283 - val_acc: 0.7208\n",
      "Epoch 67/100\n",
      "125/125 [==============================] - 34s 272ms/step - loss: 0.6506 - acc: 0.7505 - val_loss: 0.8356 - val_acc: 0.6820\n",
      "Epoch 68/100\n",
      "125/125 [==============================] - 34s 276ms/step - loss: 0.6618 - acc: 0.7412 - val_loss: 0.6793 - val_acc: 0.7419\n",
      "Epoch 69/100\n",
      "125/125 [==============================] - 34s 273ms/step - loss: 0.6573 - acc: 0.7402 - val_loss: 0.6819 - val_acc: 0.7465\n",
      "Epoch 70/100\n",
      "125/125 [==============================] - 34s 274ms/step - loss: 0.6574 - acc: 0.7385 - val_loss: 0.8338 - val_acc: 0.6850\n",
      "Epoch 71/100\n",
      "125/125 [==============================] - 33s 268ms/step - loss: 0.6525 - acc: 0.7390 - val_loss: 0.8380 - val_acc: 0.6981\n",
      "Epoch 72/100\n",
      "125/125 [==============================] - 34s 269ms/step - loss: 0.6447 - acc: 0.7510 - val_loss: 0.7939 - val_acc: 0.7051\n",
      "Epoch 73/100\n",
      "125/125 [==============================] - 34s 268ms/step - loss: 0.6512 - acc: 0.7433 - val_loss: 0.7709 - val_acc: 0.7102\n",
      "Epoch 74/100\n",
      "125/125 [==============================] - 34s 271ms/step - loss: 0.6425 - acc: 0.7500 - val_loss: 0.7263 - val_acc: 0.7268\n",
      "Epoch 75/100\n",
      "125/125 [==============================] - 34s 269ms/step - loss: 0.6346 - acc: 0.7582 - val_loss: 0.7415 - val_acc: 0.7243\n",
      "Epoch 76/100\n",
      "125/125 [==============================] - 33s 266ms/step - loss: 0.6406 - acc: 0.7462 - val_loss: 0.8352 - val_acc: 0.6935\n",
      "Epoch 77/100\n",
      "125/125 [==============================] - 33s 268ms/step - loss: 0.6435 - acc: 0.7427 - val_loss: 0.6978 - val_acc: 0.7339\n",
      "Epoch 78/100\n",
      "125/125 [==============================] - 34s 270ms/step - loss: 0.6421 - acc: 0.7500 - val_loss: 0.7129 - val_acc: 0.7339\n",
      "Epoch 79/100\n",
      "125/125 [==============================] - 33s 268ms/step - loss: 0.6489 - acc: 0.7433 - val_loss: 0.7251 - val_acc: 0.7324\n",
      "Epoch 80/100\n",
      "125/125 [==============================] - 33s 262ms/step - loss: 0.6367 - acc: 0.7513 - val_loss: 0.6899 - val_acc: 0.7379\n",
      "Epoch 81/100\n",
      "125/125 [==============================] - 33s 262ms/step - loss: 0.6259 - acc: 0.7520 - val_loss: 0.7858 - val_acc: 0.7117\n",
      "Epoch 82/100\n",
      "125/125 [==============================] - 32s 260ms/step - loss: 0.6418 - acc: 0.7508 - val_loss: 0.7774 - val_acc: 0.7142\n",
      "Epoch 83/100\n",
      "125/125 [==============================] - 34s 269ms/step - loss: 0.6320 - acc: 0.7513 - val_loss: 0.7316 - val_acc: 0.7324\n",
      "Epoch 84/100\n",
      "125/125 [==============================] - 32s 258ms/step - loss: 0.6244 - acc: 0.7530 - val_loss: 0.8660 - val_acc: 0.7011\n",
      "Epoch 85/100\n",
      "125/125 [==============================] - 32s 258ms/step - loss: 0.6316 - acc: 0.7520 - val_loss: 0.7479 - val_acc: 0.7203\n",
      "Epoch 86/100\n",
      "125/125 [==============================] - 32s 258ms/step - loss: 0.6221 - acc: 0.7565 - val_loss: 0.6978 - val_acc: 0.7268\n",
      "Epoch 87/100\n",
      "125/125 [==============================] - 32s 256ms/step - loss: 0.6254 - acc: 0.7498 - val_loss: 0.6975 - val_acc: 0.7404\n",
      "Epoch 88/100\n",
      "125/125 [==============================] - 32s 258ms/step - loss: 0.6133 - acc: 0.7613 - val_loss: 0.6936 - val_acc: 0.7465\n",
      "Epoch 89/100\n",
      "125/125 [==============================] - 32s 257ms/step - loss: 0.6194 - acc: 0.7510 - val_loss: 0.6744 - val_acc: 0.7495\n",
      "Epoch 90/100\n",
      "125/125 [==============================] - 32s 257ms/step - loss: 0.6144 - acc: 0.7580 - val_loss: 0.6729 - val_acc: 0.7515\n",
      "Epoch 91/100\n",
      "125/125 [==============================] - 32s 254ms/step - loss: 0.6064 - acc: 0.7613 - val_loss: 0.6612 - val_acc: 0.7566\n",
      "Epoch 92/100\n",
      "125/125 [==============================] - 32s 253ms/step - loss: 0.6214 - acc: 0.7625 - val_loss: 0.8374 - val_acc: 0.7056\n",
      "Epoch 93/100\n",
      "125/125 [==============================] - 32s 257ms/step - loss: 0.6052 - acc: 0.7650 - val_loss: 0.7353 - val_acc: 0.7293\n",
      "Epoch 94/100\n",
      "125/125 [==============================] - 32s 252ms/step - loss: 0.6050 - acc: 0.7575 - val_loss: 0.7183 - val_acc: 0.7278\n",
      "Epoch 95/100\n",
      "125/125 [==============================] - 33s 264ms/step - loss: 0.5924 - acc: 0.7732 - val_loss: 0.7117 - val_acc: 0.7419\n",
      "Epoch 96/100\n",
      "125/125 [==============================] - 33s 266ms/step - loss: 0.5984 - acc: 0.7592 - val_loss: 0.9411 - val_acc: 0.6774\n",
      "Epoch 97/100\n",
      "125/125 [==============================] - 33s 260ms/step - loss: 0.6039 - acc: 0.7610 - val_loss: 0.7571 - val_acc: 0.7193\n",
      "Epoch 98/100\n",
      "125/125 [==============================] - 32s 259ms/step - loss: 0.5942 - acc: 0.7685 - val_loss: 0.6904 - val_acc: 0.7460\n",
      "Epoch 99/100\n",
      "125/125 [==============================] - 32s 256ms/step - loss: 0.5940 - acc: 0.7715 - val_loss: 0.7129 - val_acc: 0.7359\n",
      "Epoch 100/100\n",
      "125/125 [==============================] - 31s 251ms/step - loss: 0.5871 - acc: 0.7645 - val_loss: 0.6656 - val_acc: 0.7631\n"
     ]
    }
   ],
   "source": [
    "train_datagen = ImageDataGenerator(\n",
    "    rescale=1./255,\n",
    "    rotation_range=40,\n",
    "    width_shift_range=0.2,\n",
    "    height_shift_range=0.2,\n",
    "    shear_range=0.2,\n",
    "    zoom_range=0.2,\n",
    "    horizontal_flip=True,)\n",
    "\n",
    "test_datagen = ImageDataGenerator(rescale=1./255)\n",
    "\n",
    "train_generator = train_datagen.flow_from_directory(\n",
    "        train_dir,\n",
    "        target_size=(150, 150),\n",
    "        batch_size=32,\n",
    "        class_mode='categorical')\n",
    "\n",
    "validation_generator = test_datagen.flow_from_directory(\n",
    "        validation_dir,\n",
    "        target_size=(150, 150),\n",
    "        batch_size=32,\n",
    "        class_mode='categorical')\n",
    "\n",
    "history = model.fit_generator(\n",
    "      train_generator,\n",
    "      steps_per_epoch=125,\n",
    "      epochs=100,\n",
    "      validation_data=validation_generator,\n",
    "      validation_steps=62)"
   ]
  },
  {
   "cell_type": "code",
   "execution_count": 0,
   "metadata": {
    "colab": {
     "base_uri": "https://localhost:8080/",
     "height": 545
    },
    "colab_type": "code",
    "id": "GUuPDPVznZIE",
    "outputId": "1a249ce7-d65a-4205-9efa-a9f275286294"
   },
   "outputs": [
    {
     "data": {
      "image/png": "[encoded data removed]",
      "text/plain": [
       "<Figure size 432x288 with 1 Axes>"
      ]
     },
     "metadata": {
      "tags": []
     },
     "output_type": "display_data"
    },
    {
     "data": {
      "image/png": "[encoded data removed]",
      "text/plain": [
       "<Figure size 432x288 with 1 Axes>"
      ]
     },
     "metadata": {
      "tags": []
     },
     "output_type": "display_data"
    }
   ],
   "source": [
    "\n",
    "acc = history.history['acc']\n",
    "val_acc = history.history['val_acc']\n",
    "loss = history.history['loss']\n",
    "val_loss = history.history['val_loss']\n",
    "\n",
    "epochs = range(len(acc))\n",
    "\n",
    "plt.plot(epochs, acc, 'bo', label='Training acc')\n",
    "plt.plot(epochs, val_acc, 'b', label='Validation acc')\n",
    "plt.title('Training and validation accuracy')\n",
    "plt.legend()\n",
    "\n",
    "plt.figure()\n",
    "\n",
    "plt.plot(epochs, loss, 'bo', label='Training loss')\n",
    "plt.plot(epochs, val_loss, 'b', label='Validation loss')\n",
    "plt.title('Training and validation loss')\n",
    "plt.legend()\n",
    "\n",
    "plt.show()"
   ]
  },
  {
   "cell_type": "code",
   "execution_count": 0,
   "metadata": {
    "colab": {
     "base_uri": "https://localhost:8080/",
     "height": 51
    },
    "colab_type": "code",
    "id": "XHghmGthnhWN",
    "outputId": "7201d709-c7c3-4973-bc6d-ec54711e2129"
   },
   "outputs": [
    {
     "name": "stdout",
     "output_type": "stream",
     "text": [
      "Downloading data from https://github.com/fchollet/deep-learning-models/releases/download/v0.5/inception_v3_weights_tf_dim_ordering_tf_kernels_notop.h5\n",
      "87916544/87910968 [==============================] - 2s 0us/step\n"
     ]
    }
   ],
   "source": [
    "from tensorflow.keras.applications import  InceptionV3\n",
    "\n",
    "conv_base = InceptionV3(weights='imagenet', \n",
    "                  include_top=False, \n",
    "                  input_shape=(150, 150, 3))"
   ]
  },
  {
   "cell_type": "code",
   "execution_count": 0,
   "metadata": {
    "colab": {
     "base_uri": "https://localhost:8080/",
     "height": 1000
    },
    "colab_type": "code",
    "id": "yivS9k-zoQyL",
    "outputId": "5148b63f-1e1f-4527-d98f-4f6535656b73"
   },
   "outputs": [
    {
     "name": "stdout",
     "output_type": "stream",
     "text": [
      "Model: \"inception_v3\"\n",
      "__________________________________________________________________________________________________\n",
      "Layer (type)                    Output Shape         Param #     Connected to                     \n",
      "==================================================================================================\n",
      "input_1 (InputLayer)            [(None, 150, 150, 3) 0                                            \n",
      "__________________________________________________________________________________________________\n",
      "conv2d_8 (Conv2D)               (None, 74, 74, 32)   864         input_1[0][0]                    \n",
      "__________________________________________________________________________________________________\n",
      "batch_normalization (BatchNorma (None, 74, 74, 32)   96          conv2d_8[0][0]                   \n",
      "__________________________________________________________________________________________________\n",
      "activation (Activation)         (None, 74, 74, 32)   0           batch_normalization[0][0]        \n",
      "__________________________________________________________________________________________________\n",
      "conv2d_9 (Conv2D)               (None, 72, 72, 32)   9216        activation[0][0]                 \n",
      "__________________________________________________________________________________________________\n",
      "batch_normalization_1 (BatchNor (None, 72, 72, 32)   96          conv2d_9[0][0]                   \n",
      "__________________________________________________________________________________________________\n",
      "activation_1 (Activation)       (None, 72, 72, 32)   0           batch_normalization_1[0][0]      \n",
      "__________________________________________________________________________________________________\n",
      "conv2d_10 (Conv2D)              (None, 72, 72, 64)   18432       activation_1[0][0]               \n",
      "__________________________________________________________________________________________________\n",
      "batch_normalization_2 (BatchNor (None, 72, 72, 64)   192         conv2d_10[0][0]                  \n",
      "__________________________________________________________________________________________________\n",
      "activation_2 (Activation)       (None, 72, 72, 64)   0           batch_normalization_2[0][0]      \n",
      "__________________________________________________________________________________________________\n",
      "max_pooling2d_8 (MaxPooling2D)  (None, 35, 35, 64)   0           activation_2[0][0]               \n",
      "__________________________________________________________________________________________________\n",
      "conv2d_11 (Conv2D)              (None, 35, 35, 80)   5120        max_pooling2d_8[0][0]            \n",
      "__________________________________________________________________________________________________\n",
      "batch_normalization_3 (BatchNor (None, 35, 35, 80)   240         conv2d_11[0][0]                  \n",
      "__________________________________________________________________________________________________\n",
      "activation_3 (Activation)       (None, 35, 35, 80)   0           batch_normalization_3[0][0]      \n",
      "__________________________________________________________________________________________________\n",
      "conv2d_12 (Conv2D)              (None, 33, 33, 192)  138240      activation_3[0][0]               \n",
      "__________________________________________________________________________________________________\n",
      "batch_normalization_4 (BatchNor (None, 33, 33, 192)  576         conv2d_12[0][0]                  \n",
      "__________________________________________________________________________________________________\n",
      "activation_4 (Activation)       (None, 33, 33, 192)  0           batch_normalization_4[0][0]      \n",
      "__________________________________________________________________________________________________\n",
      "max_pooling2d_9 (MaxPooling2D)  (None, 16, 16, 192)  0           activation_4[0][0]               \n",
      "__________________________________________________________________________________________________\n",
      "conv2d_16 (Conv2D)              (None, 16, 16, 64)   12288       max_pooling2d_9[0][0]            \n",
      "__________________________________________________________________________________________________\n",
      "batch_normalization_8 (BatchNor (None, 16, 16, 64)   192         conv2d_16[0][0]                  \n",
      "__________________________________________________________________________________________________\n",
      "activation_8 (Activation)       (None, 16, 16, 64)   0           batch_normalization_8[0][0]      \n",
      "__________________________________________________________________________________________________\n",
      "conv2d_14 (Conv2D)              (None, 16, 16, 48)   9216        max_pooling2d_9[0][0]            \n",
      "__________________________________________________________________________________________________\n",
      "conv2d_17 (Conv2D)              (None, 16, 16, 96)   55296       activation_8[0][0]               \n",
      "__________________________________________________________________________________________________\n",
      "batch_normalization_6 (BatchNor (None, 16, 16, 48)   144         conv2d_14[0][0]                  \n",
      "__________________________________________________________________________________________________\n",
      "batch_normalization_9 (BatchNor (None, 16, 16, 96)   288         conv2d_17[0][0]                  \n",
      "__________________________________________________________________________________________________\n",
      "activation_6 (Activation)       (None, 16, 16, 48)   0           batch_normalization_6[0][0]      \n",
      "__________________________________________________________________________________________________\n",
      "activation_9 (Activation)       (None, 16, 16, 96)   0           batch_normalization_9[0][0]      \n",
      "__________________________________________________________________________________________________\n",
      "average_pooling2d (AveragePooli (None, 16, 16, 192)  0           max_pooling2d_9[0][0]            \n",
      "__________________________________________________________________________________________________\n",
      "conv2d_13 (Conv2D)              (None, 16, 16, 64)   12288       max_pooling2d_9[0][0]            \n",
      "__________________________________________________________________________________________________\n",
      "conv2d_15 (Conv2D)              (None, 16, 16, 64)   76800       activation_6[0][0]               \n",
      "__________________________________________________________________________________________________\n",
      "conv2d_18 (Conv2D)              (None, 16, 16, 96)   82944       activation_9[0][0]               \n",
      "__________________________________________________________________________________________________\n",
      "conv2d_19 (Conv2D)              (None, 16, 16, 32)   6144        average_pooling2d[0][0]          \n",
      "__________________________________________________________________________________________________\n",
      "batch_normalization_5 (BatchNor (None, 16, 16, 64)   192         conv2d_13[0][0]                  \n",
      "__________________________________________________________________________________________________\n",
      "batch_normalization_7 (BatchNor (None, 16, 16, 64)   192         conv2d_15[0][0]                  \n",
      "__________________________________________________________________________________________________\n",
      "batch_normalization_10 (BatchNo (None, 16, 16, 96)   288         conv2d_18[0][0]                  \n",
      "__________________________________________________________________________________________________\n",
      "batch_normalization_11 (BatchNo (None, 16, 16, 32)   96          conv2d_19[0][0]                  \n",
      "__________________________________________________________________________________________________\n",
      "activation_5 (Activation)       (None, 16, 16, 64)   0           batch_normalization_5[0][0]      \n",
      "__________________________________________________________________________________________________\n",
      "activation_7 (Activation)       (None, 16, 16, 64)   0           batch_normalization_7[0][0]      \n",
      "__________________________________________________________________________________________________\n",
      "activation_10 (Activation)      (None, 16, 16, 96)   0           batch_normalization_10[0][0]     \n",
      "__________________________________________________________________________________________________\n",
      "activation_11 (Activation)      (None, 16, 16, 32)   0           batch_normalization_11[0][0]     \n",
      "__________________________________________________________________________________________________\n",
      "mixed0 (Concatenate)            (None, 16, 16, 256)  0           activation_5[0][0]               \n",
      "                                                                 activation_7[0][0]               \n",
      "                                                                 activation_10[0][0]              \n",
      "                                                                 activation_11[0][0]              \n",
      "__________________________________________________________________________________________________\n",
      "conv2d_23 (Conv2D)              (None, 16, 16, 64)   16384       mixed0[0][0]                     \n",
      "__________________________________________________________________________________________________\n",
      "batch_normalization_15 (BatchNo (None, 16, 16, 64)   192         conv2d_23[0][0]                  \n",
      "__________________________________________________________________________________________________\n",
      "activation_15 (Activation)      (None, 16, 16, 64)   0           batch_normalization_15[0][0]     \n",
      "__________________________________________________________________________________________________\n",
      "conv2d_21 (Conv2D)              (None, 16, 16, 48)   12288       mixed0[0][0]                     \n",
      "__________________________________________________________________________________________________\n",
      "conv2d_24 (Conv2D)              (None, 16, 16, 96)   55296       activation_15[0][0]              \n",
      "__________________________________________________________________________________________________\n",
      "batch_normalization_13 (BatchNo (None, 16, 16, 48)   144         conv2d_21[0][0]                  \n",
      "__________________________________________________________________________________________________\n",
      "batch_normalization_16 (BatchNo (None, 16, 16, 96)   288         conv2d_24[0][0]                  \n",
      "__________________________________________________________________________________________________\n",
      "activation_13 (Activation)      (None, 16, 16, 48)   0           batch_normalization_13[0][0]     \n",
      "__________________________________________________________________________________________________\n",
      "activation_16 (Activation)      (None, 16, 16, 96)   0           batch_normalization_16[0][0]     \n",
      "__________________________________________________________________________________________________\n",
      "average_pooling2d_1 (AveragePoo (None, 16, 16, 256)  0           mixed0[0][0]                     \n",
      "__________________________________________________________________________________________________\n",
      "conv2d_20 (Conv2D)              (None, 16, 16, 64)   16384       mixed0[0][0]                     \n",
      "__________________________________________________________________________________________________\n",
      "conv2d_22 (Conv2D)              (None, 16, 16, 64)   76800       activation_13[0][0]              \n",
      "__________________________________________________________________________________________________\n",
      "conv2d_25 (Conv2D)              (None, 16, 16, 96)   82944       activation_16[0][0]              \n",
      "__________________________________________________________________________________________________\n",
      "conv2d_26 (Conv2D)              (None, 16, 16, 64)   16384       average_pooling2d_1[0][0]        \n",
      "__________________________________________________________________________________________________\n",
      "batch_normalization_12 (BatchNo (None, 16, 16, 64)   192         conv2d_20[0][0]                  \n",
      "__________________________________________________________________________________________________\n",
      "batch_normalization_14 (BatchNo (None, 16, 16, 64)   192         conv2d_22[0][0]                  \n",
      "__________________________________________________________________________________________________\n",
      "batch_normalization_17 (BatchNo (None, 16, 16, 96)   288         conv2d_25[0][0]                  \n",
      "__________________________________________________________________________________________________\n",
      "batch_normalization_18 (BatchNo (None, 16, 16, 64)   192         conv2d_26[0][0]                  \n",
      "__________________________________________________________________________________________________\n",
      "activation_12 (Activation)      (None, 16, 16, 64)   0           batch_normalization_12[0][0]     \n",
      "__________________________________________________________________________________________________\n",
      "activation_14 (Activation)      (None, 16, 16, 64)   0           batch_normalization_14[0][0]     \n",
      "__________________________________________________________________________________________________\n",
      "activation_17 (Activation)      (None, 16, 16, 96)   0           batch_normalization_17[0][0]     \n",
      "__________________________________________________________________________________________________\n",
      "activation_18 (Activation)      (None, 16, 16, 64)   0           batch_normalization_18[0][0]     \n",
      "__________________________________________________________________________________________________\n",
      "mixed1 (Concatenate)            (None, 16, 16, 288)  0           activation_12[0][0]              \n",
      "                                                                 activation_14[0][0]              \n",
      "                                                                 activation_17[0][0]              \n",
      "                                                                 activation_18[0][0]              \n",
      "__________________________________________________________________________________________________\n",
      "conv2d_30 (Conv2D)              (None, 16, 16, 64)   18432       mixed1[0][0]                     \n",
      "__________________________________________________________________________________________________\n",
      "batch_normalization_22 (BatchNo (None, 16, 16, 64)   192         conv2d_30[0][0]                  \n",
      "__________________________________________________________________________________________________\n",
      "activation_22 (Activation)      (None, 16, 16, 64)   0           batch_normalization_22[0][0]     \n",
      "__________________________________________________________________________________________________\n",
      "conv2d_28 (Conv2D)              (None, 16, 16, 48)   13824       mixed1[0][0]                     \n",
      "__________________________________________________________________________________________________\n",
      "conv2d_31 (Conv2D)              (None, 16, 16, 96)   55296       activation_22[0][0]              \n",
      "__________________________________________________________________________________________________\n",
      "batch_normalization_20 (BatchNo (None, 16, 16, 48)   144         conv2d_28[0][0]                  \n",
      "__________________________________________________________________________________________________\n",
      "batch_normalization_23 (BatchNo (None, 16, 16, 96)   288         conv2d_31[0][0]                  \n",
      "__________________________________________________________________________________________________\n",
      "activation_20 (Activation)      (None, 16, 16, 48)   0           batch_normalization_20[0][0]     \n",
      "__________________________________________________________________________________________________\n",
      "activation_23 (Activation)      (None, 16, 16, 96)   0           batch_normalization_23[0][0]     \n",
      "__________________________________________________________________________________________________\n",
      "average_pooling2d_2 (AveragePoo (None, 16, 16, 288)  0           mixed1[0][0]                     \n",
      "__________________________________________________________________________________________________\n",
      "conv2d_27 (Conv2D)              (None, 16, 16, 64)   18432       mixed1[0][0]                     \n",
      "__________________________________________________________________________________________________\n",
      "conv2d_29 (Conv2D)              (None, 16, 16, 64)   76800       activation_20[0][0]              \n",
      "__________________________________________________________________________________________________\n",
      "conv2d_32 (Conv2D)              (None, 16, 16, 96)   82944       activation_23[0][0]              \n",
      "__________________________________________________________________________________________________\n",
      "conv2d_33 (Conv2D)              (None, 16, 16, 64)   18432       average_pooling2d_2[0][0]        \n",
      "__________________________________________________________________________________________________\n",
      "batch_normalization_19 (BatchNo (None, 16, 16, 64)   192         conv2d_27[0][0]                  \n",
      "__________________________________________________________________________________________________\n",
      "batch_normalization_21 (BatchNo (None, 16, 16, 64)   192         conv2d_29[0][0]                  \n",
      "__________________________________________________________________________________________________\n",
      "batch_normalization_24 (BatchNo (None, 16, 16, 96)   288         conv2d_32[0][0]                  \n",
      "__________________________________________________________________________________________________\n",
      "batch_normalization_25 (BatchNo (None, 16, 16, 64)   192         conv2d_33[0][0]                  \n",
      "__________________________________________________________________________________________________\n",
      "activation_19 (Activation)      (None, 16, 16, 64)   0           batch_normalization_19[0][0]     \n",
      "__________________________________________________________________________________________________\n",
      "activation_21 (Activation)      (None, 16, 16, 64)   0           batch_normalization_21[0][0]     \n",
      "__________________________________________________________________________________________________\n",
      "activation_24 (Activation)      (None, 16, 16, 96)   0           batch_normalization_24[0][0]     \n",
      "__________________________________________________________________________________________________\n",
      "activation_25 (Activation)      (None, 16, 16, 64)   0           batch_normalization_25[0][0]     \n",
      "__________________________________________________________________________________________________\n",
      "mixed2 (Concatenate)            (None, 16, 16, 288)  0           activation_19[0][0]              \n",
      "                                                                 activation_21[0][0]              \n",
      "                                                                 activation_24[0][0]              \n",
      "                                                                 activation_25[0][0]              \n",
      "__________________________________________________________________________________________________\n",
      "conv2d_35 (Conv2D)              (None, 16, 16, 64)   18432       mixed2[0][0]                     \n",
      "__________________________________________________________________________________________________\n",
      "batch_normalization_27 (BatchNo (None, 16, 16, 64)   192         conv2d_35[0][0]                  \n",
      "__________________________________________________________________________________________________\n",
      "activation_27 (Activation)      (None, 16, 16, 64)   0           batch_normalization_27[0][0]     \n",
      "__________________________________________________________________________________________________\n",
      "conv2d_36 (Conv2D)              (None, 16, 16, 96)   55296       activation_27[0][0]              \n",
      "__________________________________________________________________________________________________\n",
      "batch_normalization_28 (BatchNo (None, 16, 16, 96)   288         conv2d_36[0][0]                  \n",
      "__________________________________________________________________________________________________\n",
      "activation_28 (Activation)      (None, 16, 16, 96)   0           batch_normalization_28[0][0]     \n",
      "__________________________________________________________________________________________________\n",
      "conv2d_34 (Conv2D)              (None, 7, 7, 384)    995328      mixed2[0][0]                     \n",
      "__________________________________________________________________________________________________\n",
      "conv2d_37 (Conv2D)              (None, 7, 7, 96)     82944       activation_28[0][0]              \n",
      "__________________________________________________________________________________________________\n",
      "batch_normalization_26 (BatchNo (None, 7, 7, 384)    1152        conv2d_34[0][0]                  \n",
      "__________________________________________________________________________________________________\n",
      "batch_normalization_29 (BatchNo (None, 7, 7, 96)     288         conv2d_37[0][0]                  \n",
      "__________________________________________________________________________________________________\n",
      "activation_26 (Activation)      (None, 7, 7, 384)    0           batch_normalization_26[0][0]     \n",
      "__________________________________________________________________________________________________\n",
      "activation_29 (Activation)      (None, 7, 7, 96)     0           batch_normalization_29[0][0]     \n",
      "__________________________________________________________________________________________________\n",
      "max_pooling2d_10 (MaxPooling2D) (None, 7, 7, 288)    0           mixed2[0][0]                     \n",
      "__________________________________________________________________________________________________\n",
      "mixed3 (Concatenate)            (None, 7, 7, 768)    0           activation_26[0][0]              \n",
      "                                                                 activation_29[0][0]              \n",
      "                                                                 max_pooling2d_10[0][0]           \n",
      "__________________________________________________________________________________________________\n",
      "conv2d_42 (Conv2D)              (None, 7, 7, 128)    98304       mixed3[0][0]                     \n",
      "__________________________________________________________________________________________________\n",
      "batch_normalization_34 (BatchNo (None, 7, 7, 128)    384         conv2d_42[0][0]                  \n",
      "__________________________________________________________________________________________________\n",
      "activation_34 (Activation)      (None, 7, 7, 128)    0           batch_normalization_34[0][0]     \n",
      "__________________________________________________________________________________________________\n",
      "conv2d_43 (Conv2D)              (None, 7, 7, 128)    114688      activation_34[0][0]              \n",
      "__________________________________________________________________________________________________\n",
      "batch_normalization_35 (BatchNo (None, 7, 7, 128)    384         conv2d_43[0][0]                  \n",
      "__________________________________________________________________________________________________\n",
      "activation_35 (Activation)      (None, 7, 7, 128)    0           batch_normalization_35[0][0]     \n",
      "__________________________________________________________________________________________________\n",
      "conv2d_39 (Conv2D)              (None, 7, 7, 128)    98304       mixed3[0][0]                     \n",
      "__________________________________________________________________________________________________\n",
      "conv2d_44 (Conv2D)              (None, 7, 7, 128)    114688      activation_35[0][0]              \n",
      "__________________________________________________________________________________________________\n",
      "batch_normalization_31 (BatchNo (None, 7, 7, 128)    384         conv2d_39[0][0]                  \n",
      "__________________________________________________________________________________________________\n",
      "batch_normalization_36 (BatchNo (None, 7, 7, 128)    384         conv2d_44[0][0]                  \n",
      "__________________________________________________________________________________________________\n",
      "activation_31 (Activation)      (None, 7, 7, 128)    0           batch_normalization_31[0][0]     \n",
      "__________________________________________________________________________________________________\n",
      "activation_36 (Activation)      (None, 7, 7, 128)    0           batch_normalization_36[0][0]     \n",
      "__________________________________________________________________________________________________\n",
      "conv2d_40 (Conv2D)              (None, 7, 7, 128)    114688      activation_31[0][0]              \n",
      "__________________________________________________________________________________________________\n",
      "conv2d_45 (Conv2D)              (None, 7, 7, 128)    114688      activation_36[0][0]              \n",
      "__________________________________________________________________________________________________\n",
      "batch_normalization_32 (BatchNo (None, 7, 7, 128)    384         conv2d_40[0][0]                  \n",
      "__________________________________________________________________________________________________\n",
      "batch_normalization_37 (BatchNo (None, 7, 7, 128)    384         conv2d_45[0][0]                  \n",
      "__________________________________________________________________________________________________\n",
      "activation_32 (Activation)      (None, 7, 7, 128)    0           batch_normalization_32[0][0]     \n",
      "__________________________________________________________________________________________________\n",
      "activation_37 (Activation)      (None, 7, 7, 128)    0           batch_normalization_37[0][0]     \n",
      "__________________________________________________________________________________________________\n",
      "average_pooling2d_3 (AveragePoo (None, 7, 7, 768)    0           mixed3[0][0]                     \n",
      "__________________________________________________________________________________________________\n",
      "conv2d_38 (Conv2D)              (None, 7, 7, 192)    147456      mixed3[0][0]                     \n",
      "__________________________________________________________________________________________________\n",
      "conv2d_41 (Conv2D)              (None, 7, 7, 192)    172032      activation_32[0][0]              \n",
      "__________________________________________________________________________________________________\n",
      "conv2d_46 (Conv2D)              (None, 7, 7, 192)    172032      activation_37[0][0]              \n",
      "__________________________________________________________________________________________________\n",
      "conv2d_47 (Conv2D)              (None, 7, 7, 192)    147456      average_pooling2d_3[0][0]        \n",
      "__________________________________________________________________________________________________\n",
      "batch_normalization_30 (BatchNo (None, 7, 7, 192)    576         conv2d_38[0][0]                  \n",
      "__________________________________________________________________________________________________\n",
      "batch_normalization_33 (BatchNo (None, 7, 7, 192)    576         conv2d_41[0][0]                  \n",
      "__________________________________________________________________________________________________\n",
      "batch_normalization_38 (BatchNo (None, 7, 7, 192)    576         conv2d_46[0][0]                  \n",
      "__________________________________________________________________________________________________\n",
      "batch_normalization_39 (BatchNo (None, 7, 7, 192)    576         conv2d_47[0][0]                  \n",
      "__________________________________________________________________________________________________\n",
      "activation_30 (Activation)      (None, 7, 7, 192)    0           batch_normalization_30[0][0]     \n",
      "__________________________________________________________________________________________________\n",
      "activation_33 (Activation)      (None, 7, 7, 192)    0           batch_normalization_33[0][0]     \n",
      "__________________________________________________________________________________________________\n",
      "activation_38 (Activation)      (None, 7, 7, 192)    0           batch_normalization_38[0][0]     \n",
      "__________________________________________________________________________________________________\n",
      "activation_39 (Activation)      (None, 7, 7, 192)    0           batch_normalization_39[0][0]     \n",
      "__________________________________________________________________________________________________\n",
      "mixed4 (Concatenate)            (None, 7, 7, 768)    0           activation_30[0][0]              \n",
      "                                                                 activation_33[0][0]              \n",
      "                                                                 activation_38[0][0]              \n",
      "                                                                 activation_39[0][0]              \n",
      "__________________________________________________________________________________________________\n",
      "conv2d_52 (Conv2D)              (None, 7, 7, 160)    122880      mixed4[0][0]                     \n",
      "__________________________________________________________________________________________________\n",
      "batch_normalization_44 (BatchNo (None, 7, 7, 160)    480         conv2d_52[0][0]                  \n",
      "__________________________________________________________________________________________________\n",
      "activation_44 (Activation)      (None, 7, 7, 160)    0           batch_normalization_44[0][0]     \n",
      "__________________________________________________________________________________________________\n",
      "conv2d_53 (Conv2D)              (None, 7, 7, 160)    179200      activation_44[0][0]              \n",
      "__________________________________________________________________________________________________\n",
      "batch_normalization_45 (BatchNo (None, 7, 7, 160)    480         conv2d_53[0][0]                  \n",
      "__________________________________________________________________________________________________\n",
      "activation_45 (Activation)      (None, 7, 7, 160)    0           batch_normalization_45[0][0]     \n",
      "__________________________________________________________________________________________________\n",
      "conv2d_49 (Conv2D)              (None, 7, 7, 160)    122880      mixed4[0][0]                     \n",
      "__________________________________________________________________________________________________\n",
      "conv2d_54 (Conv2D)              (None, 7, 7, 160)    179200      activation_45[0][0]              \n",
      "__________________________________________________________________________________________________\n",
      "batch_normalization_41 (BatchNo (None, 7, 7, 160)    480         conv2d_49[0][0]                  \n",
      "__________________________________________________________________________________________________\n",
      "batch_normalization_46 (BatchNo (None, 7, 7, 160)    480         conv2d_54[0][0]                  \n",
      "__________________________________________________________________________________________________\n",
      "activation_41 (Activation)      (None, 7, 7, 160)    0           batch_normalization_41[0][0]     \n",
      "__________________________________________________________________________________________________\n",
      "activation_46 (Activation)      (None, 7, 7, 160)    0           batch_normalization_46[0][0]     \n",
      "__________________________________________________________________________________________________\n",
      "conv2d_50 (Conv2D)              (None, 7, 7, 160)    179200      activation_41[0][0]              \n",
      "__________________________________________________________________________________________________\n",
      "conv2d_55 (Conv2D)              (None, 7, 7, 160)    179200      activation_46[0][0]              \n",
      "__________________________________________________________________________________________________\n",
      "batch_normalization_42 (BatchNo (None, 7, 7, 160)    480         conv2d_50[0][0]                  \n",
      "__________________________________________________________________________________________________\n",
      "batch_normalization_47 (BatchNo (None, 7, 7, 160)    480         conv2d_55[0][0]                  \n",
      "__________________________________________________________________________________________________\n",
      "activation_42 (Activation)      (None, 7, 7, 160)    0           batch_normalization_42[0][0]     \n",
      "__________________________________________________________________________________________________\n",
      "activation_47 (Activation)      (None, 7, 7, 160)    0           batch_normalization_47[0][0]     \n",
      "__________________________________________________________________________________________________\n",
      "average_pooling2d_4 (AveragePoo (None, 7, 7, 768)    0           mixed4[0][0]                     \n",
      "__________________________________________________________________________________________________\n",
      "conv2d_48 (Conv2D)              (None, 7, 7, 192)    147456      mixed4[0][0]                     \n",
      "__________________________________________________________________________________________________\n",
      "conv2d_51 (Conv2D)              (None, 7, 7, 192)    215040      activation_42[0][0]              \n",
      "__________________________________________________________________________________________________\n",
      "conv2d_56 (Conv2D)              (None, 7, 7, 192)    215040      activation_47[0][0]              \n",
      "__________________________________________________________________________________________________\n",
      "conv2d_57 (Conv2D)              (None, 7, 7, 192)    147456      average_pooling2d_4[0][0]        \n",
      "__________________________________________________________________________________________________\n",
      "batch_normalization_40 (BatchNo (None, 7, 7, 192)    576         conv2d_48[0][0]                  \n",
      "__________________________________________________________________________________________________\n",
      "batch_normalization_43 (BatchNo (None, 7, 7, 192)    576         conv2d_51[0][0]                  \n",
      "__________________________________________________________________________________________________\n",
      "batch_normalization_48 (BatchNo (None, 7, 7, 192)    576         conv2d_56[0][0]                  \n",
      "__________________________________________________________________________________________________\n",
      "batch_normalization_49 (BatchNo (None, 7, 7, 192)    576         conv2d_57[0][0]                  \n",
      "__________________________________________________________________________________________________\n",
      "activation_40 (Activation)      (None, 7, 7, 192)    0           batch_normalization_40[0][0]     \n",
      "__________________________________________________________________________________________________\n",
      "activation_43 (Activation)      (None, 7, 7, 192)    0           batch_normalization_43[0][0]     \n",
      "__________________________________________________________________________________________________\n",
      "activation_48 (Activation)      (None, 7, 7, 192)    0           batch_normalization_48[0][0]     \n",
      "__________________________________________________________________________________________________\n",
      "activation_49 (Activation)      (None, 7, 7, 192)    0           batch_normalization_49[0][0]     \n",
      "__________________________________________________________________________________________________\n",
      "mixed5 (Concatenate)            (None, 7, 7, 768)    0           activation_40[0][0]              \n",
      "                                                                 activation_43[0][0]              \n",
      "                                                                 activation_48[0][0]              \n",
      "                                                                 activation_49[0][0]              \n",
      "__________________________________________________________________________________________________\n",
      "conv2d_62 (Conv2D)              (None, 7, 7, 160)    122880      mixed5[0][0]                     \n",
      "__________________________________________________________________________________________________\n",
      "batch_normalization_54 (BatchNo (None, 7, 7, 160)    480         conv2d_62[0][0]                  \n",
      "__________________________________________________________________________________________________\n",
      "activation_54 (Activation)      (None, 7, 7, 160)    0           batch_normalization_54[0][0]     \n",
      "__________________________________________________________________________________________________\n",
      "conv2d_63 (Conv2D)              (None, 7, 7, 160)    179200      activation_54[0][0]              \n",
      "__________________________________________________________________________________________________\n",
      "batch_normalization_55 (BatchNo (None, 7, 7, 160)    480         conv2d_63[0][0]                  \n",
      "__________________________________________________________________________________________________\n",
      "activation_55 (Activation)      (None, 7, 7, 160)    0           batch_normalization_55[0][0]     \n",
      "__________________________________________________________________________________________________\n",
      "conv2d_59 (Conv2D)              (None, 7, 7, 160)    122880      mixed5[0][0]                     \n",
      "__________________________________________________________________________________________________\n",
      "conv2d_64 (Conv2D)              (None, 7, 7, 160)    179200      activation_55[0][0]              \n",
      "__________________________________________________________________________________________________\n",
      "batch_normalization_51 (BatchNo (None, 7, 7, 160)    480         conv2d_59[0][0]                  \n",
      "__________________________________________________________________________________________________\n",
      "batch_normalization_56 (BatchNo (None, 7, 7, 160)    480         conv2d_64[0][0]                  \n",
      "__________________________________________________________________________________________________\n",
      "activation_51 (Activation)      (None, 7, 7, 160)    0           batch_normalization_51[0][0]     \n",
      "__________________________________________________________________________________________________\n",
      "activation_56 (Activation)      (None, 7, 7, 160)    0           batch_normalization_56[0][0]     \n",
      "__________________________________________________________________________________________________\n",
      "conv2d_60 (Conv2D)              (None, 7, 7, 160)    179200      activation_51[0][0]              \n",
      "__________________________________________________________________________________________________\n",
      "conv2d_65 (Conv2D)              (None, 7, 7, 160)    179200      activation_56[0][0]              \n",
      "__________________________________________________________________________________________________\n",
      "batch_normalization_52 (BatchNo (None, 7, 7, 160)    480         conv2d_60[0][0]                  \n",
      "__________________________________________________________________________________________________\n",
      "batch_normalization_57 (BatchNo (None, 7, 7, 160)    480         conv2d_65[0][0]                  \n",
      "__________________________________________________________________________________________________\n",
      "activation_52 (Activation)      (None, 7, 7, 160)    0           batch_normalization_52[0][0]     \n",
      "__________________________________________________________________________________________________\n",
      "activation_57 (Activation)      (None, 7, 7, 160)    0           batch_normalization_57[0][0]     \n",
      "__________________________________________________________________________________________________\n",
      "average_pooling2d_5 (AveragePoo (None, 7, 7, 768)    0           mixed5[0][0]                     \n",
      "__________________________________________________________________________________________________\n",
      "conv2d_58 (Conv2D)              (None, 7, 7, 192)    147456      mixed5[0][0]                     \n",
      "__________________________________________________________________________________________________\n",
      "conv2d_61 (Conv2D)              (None, 7, 7, 192)    215040      activation_52[0][0]              \n",
      "__________________________________________________________________________________________________\n",
      "conv2d_66 (Conv2D)              (None, 7, 7, 192)    215040      activation_57[0][0]              \n",
      "__________________________________________________________________________________________________\n",
      "conv2d_67 (Conv2D)              (None, 7, 7, 192)    147456      average_pooling2d_5[0][0]        \n",
      "__________________________________________________________________________________________________\n",
      "batch_normalization_50 (BatchNo (None, 7, 7, 192)    576         conv2d_58[0][0]                  \n",
      "__________________________________________________________________________________________________\n",
      "batch_normalization_53 (BatchNo (None, 7, 7, 192)    576         conv2d_61[0][0]                  \n",
      "__________________________________________________________________________________________________\n",
      "batch_normalization_58 (BatchNo (None, 7, 7, 192)    576         conv2d_66[0][0]                  \n",
      "__________________________________________________________________________________________________\n",
      "batch_normalization_59 (BatchNo (None, 7, 7, 192)    576         conv2d_67[0][0]                  \n",
      "__________________________________________________________________________________________________\n",
      "activation_50 (Activation)      (None, 7, 7, 192)    0           batch_normalization_50[0][0]     \n",
      "__________________________________________________________________________________________________\n",
      "activation_53 (Activation)      (None, 7, 7, 192)    0           batch_normalization_53[0][0]     \n",
      "__________________________________________________________________________________________________\n",
      "activation_58 (Activation)      (None, 7, 7, 192)    0           batch_normalization_58[0][0]     \n",
      "__________________________________________________________________________________________________\n",
      "activation_59 (Activation)      (None, 7, 7, 192)    0           batch_normalization_59[0][0]     \n",
      "__________________________________________________________________________________________________\n",
      "mixed6 (Concatenate)            (None, 7, 7, 768)    0           activation_50[0][0]              \n",
      "                                                                 activation_53[0][0]              \n",
      "                                                                 activation_58[0][0]              \n",
      "                                                                 activation_59[0][0]              \n",
      "__________________________________________________________________________________________________\n",
      "conv2d_72 (Conv2D)              (None, 7, 7, 192)    147456      mixed6[0][0]                     \n",
      "__________________________________________________________________________________________________\n",
      "batch_normalization_64 (BatchNo (None, 7, 7, 192)    576         conv2d_72[0][0]                  \n",
      "__________________________________________________________________________________________________\n",
      "activation_64 (Activation)      (None, 7, 7, 192)    0           batch_normalization_64[0][0]     \n",
      "__________________________________________________________________________________________________\n",
      "conv2d_73 (Conv2D)              (None, 7, 7, 192)    258048      activation_64[0][0]              \n",
      "__________________________________________________________________________________________________\n",
      "batch_normalization_65 (BatchNo (None, 7, 7, 192)    576         conv2d_73[0][0]                  \n",
      "__________________________________________________________________________________________________\n",
      "activation_65 (Activation)      (None, 7, 7, 192)    0           batch_normalization_65[0][0]     \n",
      "__________________________________________________________________________________________________\n",
      "conv2d_69 (Conv2D)              (None, 7, 7, 192)    147456      mixed6[0][0]                     \n",
      "__________________________________________________________________________________________________\n",
      "conv2d_74 (Conv2D)              (None, 7, 7, 192)    258048      activation_65[0][0]              \n",
      "__________________________________________________________________________________________________\n",
      "batch_normalization_61 (BatchNo (None, 7, 7, 192)    576         conv2d_69[0][0]                  \n",
      "__________________________________________________________________________________________________\n",
      "batch_normalization_66 (BatchNo (None, 7, 7, 192)    576         conv2d_74[0][0]                  \n",
      "__________________________________________________________________________________________________\n",
      "activation_61 (Activation)      (None, 7, 7, 192)    0           batch_normalization_61[0][0]     \n",
      "__________________________________________________________________________________________________\n",
      "activation_66 (Activation)      (None, 7, 7, 192)    0           batch_normalization_66[0][0]     \n",
      "__________________________________________________________________________________________________\n",
      "conv2d_70 (Conv2D)              (None, 7, 7, 192)    258048      activation_61[0][0]              \n",
      "__________________________________________________________________________________________________\n",
      "conv2d_75 (Conv2D)              (None, 7, 7, 192)    258048      activation_66[0][0]              \n",
      "__________________________________________________________________________________________________\n",
      "batch_normalization_62 (BatchNo (None, 7, 7, 192)    576         conv2d_70[0][0]                  \n",
      "__________________________________________________________________________________________________\n",
      "batch_normalization_67 (BatchNo (None, 7, 7, 192)    576         conv2d_75[0][0]                  \n",
      "__________________________________________________________________________________________________\n",
      "activation_62 (Activation)      (None, 7, 7, 192)    0           batch_normalization_62[0][0]     \n",
      "__________________________________________________________________________________________________\n",
      "activation_67 (Activation)      (None, 7, 7, 192)    0           batch_normalization_67[0][0]     \n",
      "__________________________________________________________________________________________________\n",
      "average_pooling2d_6 (AveragePoo (None, 7, 7, 768)    0           mixed6[0][0]                     \n",
      "__________________________________________________________________________________________________\n",
      "conv2d_68 (Conv2D)              (None, 7, 7, 192)    147456      mixed6[0][0]                     \n",
      "__________________________________________________________________________________________________\n",
      "conv2d_71 (Conv2D)              (None, 7, 7, 192)    258048      activation_62[0][0]              \n",
      "__________________________________________________________________________________________________\n",
      "conv2d_76 (Conv2D)              (None, 7, 7, 192)    258048      activation_67[0][0]              \n",
      "__________________________________________________________________________________________________\n",
      "conv2d_77 (Conv2D)              (None, 7, 7, 192)    147456      average_pooling2d_6[0][0]        \n",
      "__________________________________________________________________________________________________\n",
      "batch_normalization_60 (BatchNo (None, 7, 7, 192)    576         conv2d_68[0][0]                  \n",
      "__________________________________________________________________________________________________\n",
      "batch_normalization_63 (BatchNo (None, 7, 7, 192)    576         conv2d_71[0][0]                  \n",
      "__________________________________________________________________________________________________\n",
      "batch_normalization_68 (BatchNo (None, 7, 7, 192)    576         conv2d_76[0][0]                  \n",
      "__________________________________________________________________________________________________\n",
      "batch_normalization_69 (BatchNo (None, 7, 7, 192)    576         conv2d_77[0][0]                  \n",
      "__________________________________________________________________________________________________\n",
      "activation_60 (Activation)      (None, 7, 7, 192)    0           batch_normalization_60[0][0]     \n",
      "__________________________________________________________________________________________________\n",
      "activation_63 (Activation)      (None, 7, 7, 192)    0           batch_normalization_63[0][0]     \n",
      "__________________________________________________________________________________________________\n",
      "activation_68 (Activation)      (None, 7, 7, 192)    0           batch_normalization_68[0][0]     \n",
      "__________________________________________________________________________________________________\n",
      "activation_69 (Activation)      (None, 7, 7, 192)    0           batch_normalization_69[0][0]     \n",
      "__________________________________________________________________________________________________\n",
      "mixed7 (Concatenate)            (None, 7, 7, 768)    0           activation_60[0][0]              \n",
      "                                                                 activation_63[0][0]              \n",
      "                                                                 activation_68[0][0]              \n",
      "                                                                 activation_69[0][0]              \n",
      "__________________________________________________________________________________________________\n",
      "conv2d_80 (Conv2D)              (None, 7, 7, 192)    147456      mixed7[0][0]                     \n",
      "__________________________________________________________________________________________________\n",
      "batch_normalization_72 (BatchNo (None, 7, 7, 192)    576         conv2d_80[0][0]                  \n",
      "__________________________________________________________________________________________________\n",
      "activation_72 (Activation)      (None, 7, 7, 192)    0           batch_normalization_72[0][0]     \n",
      "__________________________________________________________________________________________________\n",
      "conv2d_81 (Conv2D)              (None, 7, 7, 192)    258048      activation_72[0][0]              \n",
      "__________________________________________________________________________________________________\n",
      "batch_normalization_73 (BatchNo (None, 7, 7, 192)    576         conv2d_81[0][0]                  \n",
      "__________________________________________________________________________________________________\n",
      "activation_73 (Activation)      (None, 7, 7, 192)    0           batch_normalization_73[0][0]     \n",
      "__________________________________________________________________________________________________\n",
      "conv2d_78 (Conv2D)              (None, 7, 7, 192)    147456      mixed7[0][0]                     \n",
      "__________________________________________________________________________________________________\n",
      "conv2d_82 (Conv2D)              (None, 7, 7, 192)    258048      activation_73[0][0]              \n",
      "__________________________________________________________________________________________________\n",
      "batch_normalization_70 (BatchNo (None, 7, 7, 192)    576         conv2d_78[0][0]                  \n",
      "__________________________________________________________________________________________________\n",
      "batch_normalization_74 (BatchNo (None, 7, 7, 192)    576         conv2d_82[0][0]                  \n",
      "__________________________________________________________________________________________________\n",
      "activation_70 (Activation)      (None, 7, 7, 192)    0           batch_normalization_70[0][0]     \n",
      "__________________________________________________________________________________________________\n",
      "activation_74 (Activation)      (None, 7, 7, 192)    0           batch_normalization_74[0][0]     \n",
      "__________________________________________________________________________________________________\n",
      "conv2d_79 (Conv2D)              (None, 3, 3, 320)    552960      activation_70[0][0]              \n",
      "__________________________________________________________________________________________________\n",
      "conv2d_83 (Conv2D)              (None, 3, 3, 192)    331776      activation_74[0][0]              \n",
      "__________________________________________________________________________________________________\n",
      "batch_normalization_71 (BatchNo (None, 3, 3, 320)    960         conv2d_79[0][0]                  \n",
      "__________________________________________________________________________________________________\n",
      "batch_normalization_75 (BatchNo (None, 3, 3, 192)    576         conv2d_83[0][0]                  \n",
      "__________________________________________________________________________________________________\n",
      "activation_71 (Activation)      (None, 3, 3, 320)    0           batch_normalization_71[0][0]     \n",
      "__________________________________________________________________________________________________\n",
      "activation_75 (Activation)      (None, 3, 3, 192)    0           batch_normalization_75[0][0]     \n",
      "__________________________________________________________________________________________________\n",
      "max_pooling2d_11 (MaxPooling2D) (None, 3, 3, 768)    0           mixed7[0][0]                     \n",
      "__________________________________________________________________________________________________\n",
      "mixed8 (Concatenate)            (None, 3, 3, 1280)   0           activation_71[0][0]              \n",
      "                                                                 activation_75[0][0]              \n",
      "                                                                 max_pooling2d_11[0][0]           \n",
      "__________________________________________________________________________________________________\n",
      "conv2d_88 (Conv2D)              (None, 3, 3, 448)    573440      mixed8[0][0]                     \n",
      "__________________________________________________________________________________________________\n",
      "batch_normalization_80 (BatchNo (None, 3, 3, 448)    1344        conv2d_88[0][0]                  \n",
      "__________________________________________________________________________________________________\n",
      "activation_80 (Activation)      (None, 3, 3, 448)    0           batch_normalization_80[0][0]     \n",
      "__________________________________________________________________________________________________\n",
      "conv2d_85 (Conv2D)              (None, 3, 3, 384)    491520      mixed8[0][0]                     \n",
      "__________________________________________________________________________________________________\n",
      "conv2d_89 (Conv2D)              (None, 3, 3, 384)    1548288     activation_80[0][0]              \n",
      "__________________________________________________________________________________________________\n",
      "batch_normalization_77 (BatchNo (None, 3, 3, 384)    1152        conv2d_85[0][0]                  \n",
      "__________________________________________________________________________________________________\n",
      "batch_normalization_81 (BatchNo (None, 3, 3, 384)    1152        conv2d_89[0][0]                  \n",
      "__________________________________________________________________________________________________\n",
      "activation_77 (Activation)      (None, 3, 3, 384)    0           batch_normalization_77[0][0]     \n",
      "__________________________________________________________________________________________________\n",
      "activation_81 (Activation)      (None, 3, 3, 384)    0           batch_normalization_81[0][0]     \n",
      "__________________________________________________________________________________________________\n",
      "conv2d_86 (Conv2D)              (None, 3, 3, 384)    442368      activation_77[0][0]              \n",
      "__________________________________________________________________________________________________\n",
      "conv2d_87 (Conv2D)              (None, 3, 3, 384)    442368      activation_77[0][0]              \n",
      "__________________________________________________________________________________________________\n",
      "conv2d_90 (Conv2D)              (None, 3, 3, 384)    442368      activation_81[0][0]              \n",
      "__________________________________________________________________________________________________\n",
      "conv2d_91 (Conv2D)              (None, 3, 3, 384)    442368      activation_81[0][0]              \n",
      "__________________________________________________________________________________________________\n",
      "average_pooling2d_7 (AveragePoo (None, 3, 3, 1280)   0           mixed8[0][0]                     \n",
      "__________________________________________________________________________________________________\n",
      "conv2d_84 (Conv2D)              (None, 3, 3, 320)    409600      mixed8[0][0]                     \n",
      "__________________________________________________________________________________________________\n",
      "batch_normalization_78 (BatchNo (None, 3, 3, 384)    1152        conv2d_86[0][0]                  \n",
      "__________________________________________________________________________________________________\n",
      "batch_normalization_79 (BatchNo (None, 3, 3, 384)    1152        conv2d_87[0][0]                  \n",
      "__________________________________________________________________________________________________\n",
      "batch_normalization_82 (BatchNo (None, 3, 3, 384)    1152        conv2d_90[0][0]                  \n",
      "__________________________________________________________________________________________________\n",
      "batch_normalization_83 (BatchNo (None, 3, 3, 384)    1152        conv2d_91[0][0]                  \n",
      "__________________________________________________________________________________________________\n",
      "conv2d_92 (Conv2D)              (None, 3, 3, 192)    245760      average_pooling2d_7[0][0]        \n",
      "__________________________________________________________________________________________________\n",
      "batch_normalization_76 (BatchNo (None, 3, 3, 320)    960         conv2d_84[0][0]                  \n",
      "__________________________________________________________________________________________________\n",
      "activation_78 (Activation)      (None, 3, 3, 384)    0           batch_normalization_78[0][0]     \n",
      "__________________________________________________________________________________________________\n",
      "activation_79 (Activation)      (None, 3, 3, 384)    0           batch_normalization_79[0][0]     \n",
      "__________________________________________________________________________________________________\n",
      "activation_82 (Activation)      (None, 3, 3, 384)    0           batch_normalization_82[0][0]     \n",
      "__________________________________________________________________________________________________\n",
      "activation_83 (Activation)      (None, 3, 3, 384)    0           batch_normalization_83[0][0]     \n",
      "__________________________________________________________________________________________________\n",
      "batch_normalization_84 (BatchNo (None, 3, 3, 192)    576         conv2d_92[0][0]                  \n",
      "__________________________________________________________________________________________________\n",
      "activation_76 (Activation)      (None, 3, 3, 320)    0           batch_normalization_76[0][0]     \n",
      "__________________________________________________________________________________________________\n",
      "mixed9_0 (Concatenate)          (None, 3, 3, 768)    0           activation_78[0][0]              \n",
      "                                                                 activation_79[0][0]              \n",
      "__________________________________________________________________________________________________\n",
      "concatenate (Concatenate)       (None, 3, 3, 768)    0           activation_82[0][0]              \n",
      "                                                                 activation_83[0][0]              \n",
      "__________________________________________________________________________________________________\n",
      "activation_84 (Activation)      (None, 3, 3, 192)    0           batch_normalization_84[0][0]     \n",
      "__________________________________________________________________________________________________\n",
      "mixed9 (Concatenate)            (None, 3, 3, 2048)   0           activation_76[0][0]              \n",
      "                                                                 mixed9_0[0][0]                   \n",
      "                                                                 concatenate[0][0]                \n",
      "                                                                 activation_84[0][0]              \n",
      "__________________________________________________________________________________________________\n",
      "conv2d_97 (Conv2D)              (None, 3, 3, 448)    917504      mixed9[0][0]                     \n",
      "__________________________________________________________________________________________________\n",
      "batch_normalization_89 (BatchNo (None, 3, 3, 448)    1344        conv2d_97[0][0]                  \n",
      "__________________________________________________________________________________________________\n",
      "activation_89 (Activation)      (None, 3, 3, 448)    0           batch_normalization_89[0][0]     \n",
      "__________________________________________________________________________________________________\n",
      "conv2d_94 (Conv2D)              (None, 3, 3, 384)    786432      mixed9[0][0]                     \n",
      "__________________________________________________________________________________________________\n",
      "conv2d_98 (Conv2D)              (None, 3, 3, 384)    1548288     activation_89[0][0]              \n",
      "__________________________________________________________________________________________________\n",
      "batch_normalization_86 (BatchNo (None, 3, 3, 384)    1152        conv2d_94[0][0]                  \n",
      "__________________________________________________________________________________________________\n",
      "batch_normalization_90 (BatchNo (None, 3, 3, 384)    1152        conv2d_98[0][0]                  \n",
      "__________________________________________________________________________________________________\n",
      "activation_86 (Activation)      (None, 3, 3, 384)    0           batch_normalization_86[0][0]     \n",
      "__________________________________________________________________________________________________\n",
      "activation_90 (Activation)      (None, 3, 3, 384)    0           batch_normalization_90[0][0]     \n",
      "__________________________________________________________________________________________________\n",
      "conv2d_95 (Conv2D)              (None, 3, 3, 384)    442368      activation_86[0][0]              \n",
      "__________________________________________________________________________________________________\n",
      "conv2d_96 (Conv2D)              (None, 3, 3, 384)    442368      activation_86[0][0]              \n",
      "__________________________________________________________________________________________________\n",
      "conv2d_99 (Conv2D)              (None, 3, 3, 384)    442368      activation_90[0][0]              \n",
      "__________________________________________________________________________________________________\n",
      "conv2d_100 (Conv2D)             (None, 3, 3, 384)    442368      activation_90[0][0]              \n",
      "__________________________________________________________________________________________________\n",
      "average_pooling2d_8 (AveragePoo (None, 3, 3, 2048)   0           mixed9[0][0]                     \n",
      "__________________________________________________________________________________________________\n",
      "conv2d_93 (Conv2D)              (None, 3, 3, 320)    655360      mixed9[0][0]                     \n",
      "__________________________________________________________________________________________________\n",
      "batch_normalization_87 (BatchNo (None, 3, 3, 384)    1152        conv2d_95[0][0]                  \n",
      "__________________________________________________________________________________________________\n",
      "batch_normalization_88 (BatchNo (None, 3, 3, 384)    1152        conv2d_96[0][0]                  \n",
      "__________________________________________________________________________________________________\n",
      "batch_normalization_91 (BatchNo (None, 3, 3, 384)    1152        conv2d_99[0][0]                  \n",
      "__________________________________________________________________________________________________\n",
      "batch_normalization_92 (BatchNo (None, 3, 3, 384)    1152        conv2d_100[0][0]                 \n",
      "__________________________________________________________________________________________________\n",
      "conv2d_101 (Conv2D)             (None, 3, 3, 192)    393216      average_pooling2d_8[0][0]        \n",
      "__________________________________________________________________________________________________\n",
      "batch_normalization_85 (BatchNo (None, 3, 3, 320)    960         conv2d_93[0][0]                  \n",
      "__________________________________________________________________________________________________\n",
      "activation_87 (Activation)      (None, 3, 3, 384)    0           batch_normalization_87[0][0]     \n",
      "__________________________________________________________________________________________________\n",
      "activation_88 (Activation)      (None, 3, 3, 384)    0           batch_normalization_88[0][0]     \n",
      "__________________________________________________________________________________________________\n",
      "activation_91 (Activation)      (None, 3, 3, 384)    0           batch_normalization_91[0][0]     \n",
      "__________________________________________________________________________________________________\n",
      "activation_92 (Activation)      (None, 3, 3, 384)    0           batch_normalization_92[0][0]     \n",
      "__________________________________________________________________________________________________\n",
      "batch_normalization_93 (BatchNo (None, 3, 3, 192)    576         conv2d_101[0][0]                 \n",
      "__________________________________________________________________________________________________\n",
      "activation_85 (Activation)      (None, 3, 3, 320)    0           batch_normalization_85[0][0]     \n",
      "__________________________________________________________________________________________________\n",
      "mixed9_1 (Concatenate)          (None, 3, 3, 768)    0           activation_87[0][0]              \n",
      "                                                                 activation_88[0][0]              \n",
      "__________________________________________________________________________________________________\n",
      "concatenate_1 (Concatenate)     (None, 3, 3, 768)    0           activation_91[0][0]              \n",
      "                                                                 activation_92[0][0]              \n",
      "__________________________________________________________________________________________________\n",
      "activation_93 (Activation)      (None, 3, 3, 192)    0           batch_normalization_93[0][0]     \n",
      "__________________________________________________________________________________________________\n",
      "mixed10 (Concatenate)           (None, 3, 3, 2048)   0           activation_85[0][0]              \n",
      "                                                                 mixed9_1[0][0]                   \n",
      "                                                                 concatenate_1[0][0]              \n",
      "                                                                 activation_93[0][0]              \n",
      "==================================================================================================\n",
      "Total params: 21,802,784\n",
      "Trainable params: 21,768,352\n",
      "Non-trainable params: 34,432\n",
      "__________________________________________________________________________________________________\n"
     ]
    }
   ],
   "source": [
    "conv_base.summary()"
   ]
  },
  {
   "cell_type": "code",
   "execution_count": 0,
   "metadata": {
    "colab": {},
    "colab_type": "code",
    "id": "UIxTN1j8oVTY"
   },
   "outputs": [],
   "source": [
    "from tensorflow.keras import models\n",
    "from tensorflow.keras import layers\n",
    "\n",
    "model = models.Sequential()\n",
    "model.add(conv_base)\n",
    "model.add(layers.Flatten())\n",
    "model.add(layers.Dense(512, activation='relu'))\n",
    "model.add(layers.Dense(4, activation='softmax'))"
   ]
  },
  {
   "cell_type": "code",
   "execution_count": 0,
   "metadata": {
    "colab": {
     "base_uri": "https://localhost:8080/",
     "height": 289
    },
    "colab_type": "code",
    "id": "TnFlT671pM1z",
    "outputId": "dc72efed-f1ce-4413-e376-15c24511df05"
   },
   "outputs": [
    {
     "name": "stdout",
     "output_type": "stream",
     "text": [
      "Model: \"sequential_2\"\n",
      "_________________________________________________________________\n",
      "Layer (type)                 Output Shape              Param #   \n",
      "=================================================================\n",
      "inception_v3 (Model)         (None, 3, 3, 2048)        21802784  \n",
      "_________________________________________________________________\n",
      "flatten_2 (Flatten)          (None, 18432)             0         \n",
      "_________________________________________________________________\n",
      "dense_4 (Dense)              (None, 512)               9437696   \n",
      "_________________________________________________________________\n",
      "dense_5 (Dense)              (None, 4)                 2052      \n",
      "=================================================================\n",
      "Total params: 31,242,532\n",
      "Trainable params: 31,208,100\n",
      "Non-trainable params: 34,432\n",
      "_________________________________________________________________\n"
     ]
    }
   ],
   "source": [
    "model.summary()"
   ]
  },
  {
   "cell_type": "code",
   "execution_count": 0,
   "metadata": {
    "colab": {
     "base_uri": "https://localhost:8080/",
     "height": 34
    },
    "colab_type": "code",
    "id": "klp8IZ7apRhb",
    "outputId": "68d5fa7d-6bc8-4064-b7ca-c90aae8d1ee2"
   },
   "outputs": [
    {
     "name": "stdout",
     "output_type": "stream",
     "text": [
      "This is the number of trainable weights before freezing the conv base: 192\n"
     ]
    }
   ],
   "source": [
    "print('This is the number of trainable weights '\n",
    "      'before freezing the conv base:', len(model.trainable_weights))"
   ]
  },
  {
   "cell_type": "code",
   "execution_count": 0,
   "metadata": {
    "colab": {},
    "colab_type": "code",
    "id": "2M4VtEgfpWtO"
   },
   "outputs": [],
   "source": [
    "conv_base.trainable = False"
   ]
  },
  {
   "cell_type": "code",
   "execution_count": 0,
   "metadata": {
    "colab": {
     "base_uri": "https://localhost:8080/",
     "height": 34
    },
    "colab_type": "code",
    "id": "XhttxhlPpZZ-",
    "outputId": "19c56e6b-c4d2-45e0-e0f0-82dee9e3de26"
   },
   "outputs": [
    {
     "name": "stdout",
     "output_type": "stream",
     "text": [
      "This is the number of trainable weights after freezing the conv base: 4\n"
     ]
    }
   ],
   "source": [
    "print('This is the number of trainable weights '\n",
    "      'after freezing the conv base:', len(model.trainable_weights))"
   ]
  },
  {
   "cell_type": "code",
   "execution_count": 0,
   "metadata": {
    "colab": {
     "base_uri": "https://localhost:8080/",
     "height": 1000
    },
    "colab_type": "code",
    "id": "oIZ9J68CpbBi",
    "outputId": "532f8551-4bf2-49d7-8f4d-e3a12db8cfeb"
   },
   "outputs": [
    {
     "name": "stdout",
     "output_type": "stream",
     "text": [
      "Found 4000 images belonging to 4 classes.\n",
      "Found 2000 images belonging to 4 classes.\n",
      "WARNING:tensorflow:sample_weight modes were coerced from\n",
      "  ...\n",
      "    to  \n",
      "  ['...']\n"
     ]
    },
    {
     "name": "stderr",
     "output_type": "stream",
     "text": [
      "WARNING:tensorflow:sample_weight modes were coerced from\n",
      "  ...\n",
      "    to  \n",
      "  ['...']\n"
     ]
    },
    {
     "name": "stdout",
     "output_type": "stream",
     "text": [
      "WARNING:tensorflow:sample_weight modes were coerced from\n",
      "  ...\n",
      "    to  \n",
      "  ['...']\n"
     ]
    },
    {
     "name": "stderr",
     "output_type": "stream",
     "text": [
      "WARNING:tensorflow:sample_weight modes were coerced from\n",
      "  ...\n",
      "    to  \n",
      "  ['...']\n"
     ]
    },
    {
     "name": "stdout",
     "output_type": "stream",
     "text": [
      "Train for 200 steps, validate for 100 steps\n",
      "Epoch 1/30\n",
      "200/200 - 40s - loss: 1.5331 - acc: 0.6133 - val_loss: 0.8995 - val_acc: 0.7765\n",
      "Epoch 2/30\n",
      "200/200 - 36s - loss: 0.7941 - acc: 0.6985 - val_loss: 0.9409 - val_acc: 0.7450\n",
      "Epoch 3/30\n",
      "200/200 - 37s - loss: 0.7121 - acc: 0.7205 - val_loss: 1.0412 - val_acc: 0.7445\n",
      "Epoch 4/30\n",
      "200/200 - 37s - loss: 0.6775 - acc: 0.7402 - val_loss: 1.0602 - val_acc: 0.7485\n",
      "Epoch 5/30\n",
      "200/200 - 38s - loss: 0.6517 - acc: 0.7473 - val_loss: 1.0072 - val_acc: 0.7405\n",
      "Epoch 6/30\n",
      "200/200 - 36s - loss: 0.6477 - acc: 0.7525 - val_loss: 0.8749 - val_acc: 0.7970\n",
      "Epoch 7/30\n",
      "200/200 - 36s - loss: 0.6507 - acc: 0.7523 - val_loss: 0.8494 - val_acc: 0.7900\n",
      "Epoch 8/30\n",
      "200/200 - 36s - loss: 0.6286 - acc: 0.7582 - val_loss: 0.9258 - val_acc: 0.7535\n",
      "Epoch 9/30\n",
      "200/200 - 36s - loss: 0.6370 - acc: 0.7567 - val_loss: 0.7269 - val_acc: 0.7880\n",
      "Epoch 10/30\n",
      "200/200 - 37s - loss: 0.5984 - acc: 0.7692 - val_loss: 0.8079 - val_acc: 0.7745\n",
      "Epoch 11/30\n",
      "200/200 - 37s - loss: 0.6013 - acc: 0.7688 - val_loss: 0.7958 - val_acc: 0.7710\n",
      "Epoch 12/30\n",
      "200/200 - 37s - loss: 0.6128 - acc: 0.7595 - val_loss: 0.7634 - val_acc: 0.7730\n",
      "Epoch 13/30\n",
      "200/200 - 38s - loss: 0.6074 - acc: 0.7588 - val_loss: 0.7132 - val_acc: 0.7855\n",
      "Epoch 14/30\n",
      "200/200 - 38s - loss: 0.5888 - acc: 0.7703 - val_loss: 0.7212 - val_acc: 0.8025\n",
      "Epoch 15/30\n",
      "200/200 - 38s - loss: 0.5858 - acc: 0.7788 - val_loss: 0.7360 - val_acc: 0.8140\n",
      "Epoch 16/30\n",
      "200/200 - 38s - loss: 0.5910 - acc: 0.7722 - val_loss: 0.6680 - val_acc: 0.8095\n",
      "Epoch 17/30\n",
      "200/200 - 37s - loss: 0.5824 - acc: 0.7770 - val_loss: 0.8580 - val_acc: 0.7990\n",
      "Epoch 18/30\n",
      "200/200 - 34s - loss: 0.5627 - acc: 0.7865 - val_loss: 0.7447 - val_acc: 0.8070\n",
      "Epoch 19/30\n",
      "200/200 - 35s - loss: 0.5855 - acc: 0.7753 - val_loss: 0.6693 - val_acc: 0.7955\n",
      "Epoch 20/30\n",
      "200/200 - 35s - loss: 0.5861 - acc: 0.7710 - val_loss: 0.8721 - val_acc: 0.7950\n",
      "Epoch 21/30\n",
      "200/200 - 35s - loss: 0.5745 - acc: 0.7778 - val_loss: 0.7352 - val_acc: 0.8045\n",
      "Epoch 22/30\n",
      "200/200 - 34s - loss: 0.5636 - acc: 0.7828 - val_loss: 0.9076 - val_acc: 0.7640\n",
      "Epoch 23/30\n",
      "200/200 - 34s - loss: 0.5561 - acc: 0.7897 - val_loss: 0.7146 - val_acc: 0.7970\n",
      "Epoch 24/30\n",
      "200/200 - 34s - loss: 0.5660 - acc: 0.7865 - val_loss: 0.7673 - val_acc: 0.7865\n",
      "Epoch 25/30\n",
      "200/200 - 33s - loss: 0.5584 - acc: 0.7857 - val_loss: 0.7266 - val_acc: 0.8065\n",
      "Epoch 26/30\n",
      "200/200 - 33s - loss: 0.5382 - acc: 0.7977 - val_loss: 1.0013 - val_acc: 0.7510\n",
      "Epoch 27/30\n",
      "200/200 - 33s - loss: 0.5719 - acc: 0.7803 - val_loss: 0.7496 - val_acc: 0.7900\n",
      "Epoch 28/30\n",
      "200/200 - 33s - loss: 0.5541 - acc: 0.7825 - val_loss: 0.7480 - val_acc: 0.7910\n",
      "Epoch 29/30\n",
      "200/200 - 33s - loss: 0.5274 - acc: 0.8005 - val_loss: 0.6642 - val_acc: 0.8180\n",
      "Epoch 30/30\n",
      "200/200 - 33s - loss: 0.5360 - acc: 0.7880 - val_loss: 0.8947 - val_acc: 0.7605\n"
     ]
    }
   ],
   "source": [
    "from tensorflow.keras.preprocessing.image import ImageDataGenerator\n",
    "\n",
    "train_datagen = ImageDataGenerator(\n",
    "      rescale=1./255,\n",
    "      rotation_range=40,\n",
    "      width_shift_range=0.2,\n",
    "      height_shift_range=0.2,\n",
    "      shear_range=0.2,\n",
    "      zoom_range=0.2,\n",
    "      horizontal_flip=True,\n",
    "      fill_mode='nearest')\n",
    "\n",
    "# Note that the validation data should not be augmented!\n",
    "test_datagen = ImageDataGenerator(rescale=1./255)\n",
    "\n",
    "train_generator = train_datagen.flow_from_directory(\n",
    "        train_dir,\n",
    "        target_size=(150, 150),\n",
    "        batch_size=20,\n",
    "        class_mode='categorical')\n",
    "\n",
    "validation_generator = test_datagen.flow_from_directory(\n",
    "        validation_dir,\n",
    "        target_size=(150, 150),\n",
    "        batch_size=20,\n",
    "        class_mode='categorical')\n",
    "\n",
    "model.compile(loss='categorical_crossentropy',\n",
    "              optimizer='adam',\n",
    "              metrics=['acc'])\n",
    "\n",
    "history = model.fit_generator(\n",
    "      train_generator,\n",
    "      steps_per_epoch=200,\n",
    "      epochs=30,\n",
    "      validation_data=validation_generator,\n",
    "      validation_steps=100,\n",
    "      verbose=2)"
   ]
  },
  {
   "cell_type": "code",
   "execution_count": 0,
   "metadata": {
    "colab": {
     "base_uri": "https://localhost:8080/",
     "height": 545
    },
    "colab_type": "code",
    "id": "O1LV7K09ukzM",
    "outputId": "6d07e0b0-5c2b-4732-82a0-abeb8bfdaba9"
   },
   "outputs": [
    {
     "data": {
      "image/png": "[encoded data removed]",
      "text/plain": [
       "<Figure size 432x288 with 1 Axes>"
      ]
     },
     "metadata": {
      "tags": []
     },
     "output_type": "display_data"
    },
    {
     "data": {
      "image/png": "[encoded data removed]",
      "text/plain": [
       "<Figure size 432x288 with 1 Axes>"
      ]
     },
     "metadata": {
      "tags": []
     },
     "output_type": "display_data"
    }
   ],
   "source": [
    "acc = history.history['acc']\n",
    "val_acc = history.history['val_acc']\n",
    "loss = history.history['loss']\n",
    "val_loss = history.history['val_loss']\n",
    "\n",
    "epochs = range(len(acc))\n",
    "\n",
    "plt.plot(epochs, acc, 'bo', label='Training acc')\n",
    "plt.plot(epochs, val_acc, 'b', label='Validation acc')\n",
    "plt.title('Training and validation accuracy')\n",
    "plt.legend()\n",
    "\n",
    "plt.figure()\n",
    "\n",
    "plt.plot(epochs, loss, 'bo', label='Training loss')\n",
    "plt.plot(epochs, val_loss, 'b', label='Validation loss')\n",
    "plt.title('Training and validation loss')\n",
    "plt.legend()\n",
    "\n",
    "plt.show()"
   ]
  },
  {
   "cell_type": "code",
   "execution_count": 0,
   "metadata": {
    "colab": {},
    "colab_type": "code",
    "id": "ma1HR5Y5uxn2"
   },
   "outputs": [],
   "source": [
    "from tensorflow.keras.applications import VGG16\n",
    "\n",
    "conv_base2 = VGG16(weights='imagenet', \n",
    "                  include_top=False, \n",
    "                  input_shape=(150, 150, 3))"
   ]
  },
  {
   "cell_type": "code",
   "execution_count": 0,
   "metadata": {
    "colab": {},
    "colab_type": "code",
    "id": "8p3abmsfviuR"
   },
   "outputs": [],
   "source": [
    "from tensorflow.keras import models\n",
    "from tensorflow.keras import layers\n",
    "\n",
    "model2 = models.Sequential()\n",
    "model2.add(conv_base2)\n",
    "model2.add(layers.Flatten())\n",
    "model2.add(layers.Dense(512, activation='relu'))\n",
    "model2.add(layers.Dense(4, activation='softmax'))"
   ]
  },
  {
   "cell_type": "code",
   "execution_count": 0,
   "metadata": {
    "colab": {},
    "colab_type": "code",
    "id": "X2PgZU5TvuLZ"
   },
   "outputs": [],
   "source": [
    "conv_base2.trainable = False"
   ]
  },
  {
   "cell_type": "code",
   "execution_count": 0,
   "metadata": {
    "colab": {
     "base_uri": "https://localhost:8080/",
     "height": 1000
    },
    "colab_type": "code",
    "id": "cT5dH6GZvzMl",
    "outputId": "2283584d-5ab0-4dd2-e48d-28f8ab9a0240"
   },
   "outputs": [
    {
     "name": "stdout",
     "output_type": "stream",
     "text": [
      "Found 4000 images belonging to 4 classes.\n",
      "Found 2000 images belonging to 4 classes.\n",
      "WARNING:tensorflow:sample_weight modes were coerced from\n",
      "  ...\n",
      "    to  \n",
      "  ['...']\n"
     ]
    },
    {
     "name": "stderr",
     "output_type": "stream",
     "text": [
      "WARNING:tensorflow:sample_weight modes were coerced from\n",
      "  ...\n",
      "    to  \n",
      "  ['...']\n"
     ]
    },
    {
     "name": "stdout",
     "output_type": "stream",
     "text": [
      "WARNING:tensorflow:sample_weight modes were coerced from\n",
      "  ...\n",
      "    to  \n",
      "  ['...']\n"
     ]
    },
    {
     "name": "stderr",
     "output_type": "stream",
     "text": [
      "WARNING:tensorflow:sample_weight modes were coerced from\n",
      "  ...\n",
      "    to  \n",
      "  ['...']\n"
     ]
    },
    {
     "name": "stdout",
     "output_type": "stream",
     "text": [
      "Train for 200 steps, validate for 100 steps\n",
      "Epoch 1/30\n",
      "200/200 - 36s - loss: 0.8912 - acc: 0.6867 - val_loss: 0.5978 - val_acc: 0.7570\n",
      "Epoch 2/30\n",
      "200/200 - 36s - loss: 0.6387 - acc: 0.7550 - val_loss: 0.4995 - val_acc: 0.8070\n",
      "Epoch 3/30\n",
      "200/200 - 36s - loss: 0.5945 - acc: 0.7685 - val_loss: 0.6146 - val_acc: 0.7565\n",
      "Epoch 4/30\n",
      "200/200 - 36s - loss: 0.5749 - acc: 0.7797 - val_loss: 0.4793 - val_acc: 0.8170\n",
      "Epoch 5/30\n",
      "200/200 - 36s - loss: 0.5342 - acc: 0.8002 - val_loss: 0.4935 - val_acc: 0.8100\n",
      "Epoch 6/30\n",
      "200/200 - 34s - loss: 0.5178 - acc: 0.8058 - val_loss: 0.4840 - val_acc: 0.8210\n",
      "Epoch 7/30\n",
      "200/200 - 35s - loss: 0.5379 - acc: 0.7987 - val_loss: 0.4723 - val_acc: 0.8200\n",
      "Epoch 8/30\n",
      "200/200 - 34s - loss: 0.5078 - acc: 0.8075 - val_loss: 0.4560 - val_acc: 0.8315\n",
      "Epoch 9/30\n",
      "200/200 - 35s - loss: 0.4944 - acc: 0.8112 - val_loss: 0.4453 - val_acc: 0.8375\n",
      "Epoch 10/30\n",
      "200/200 - 35s - loss: 0.4813 - acc: 0.8213 - val_loss: 0.5077 - val_acc: 0.8225\n",
      "Epoch 11/30\n",
      "200/200 - 35s - loss: 0.4739 - acc: 0.8195 - val_loss: 0.4705 - val_acc: 0.8260\n",
      "Epoch 12/30\n",
      "200/200 - 35s - loss: 0.4550 - acc: 0.8248 - val_loss: 0.4862 - val_acc: 0.8145\n",
      "Epoch 13/30\n",
      "200/200 - 35s - loss: 0.4548 - acc: 0.8290 - val_loss: 0.5485 - val_acc: 0.8075\n",
      "Epoch 14/30\n",
      "200/200 - 35s - loss: 0.4438 - acc: 0.8270 - val_loss: 0.4554 - val_acc: 0.8255\n",
      "Epoch 15/30\n",
      "200/200 - 35s - loss: 0.4353 - acc: 0.8380 - val_loss: 0.4653 - val_acc: 0.8310\n",
      "Epoch 16/30\n",
      "200/200 - 35s - loss: 0.4503 - acc: 0.8260 - val_loss: 0.4919 - val_acc: 0.8255\n",
      "Epoch 17/30\n",
      "200/200 - 35s - loss: 0.4259 - acc: 0.8342 - val_loss: 0.4663 - val_acc: 0.8330\n",
      "Epoch 18/30\n",
      "200/200 - 35s - loss: 0.4269 - acc: 0.8413 - val_loss: 0.4579 - val_acc: 0.8400\n",
      "Epoch 19/30\n",
      "200/200 - 35s - loss: 0.4291 - acc: 0.8365 - val_loss: 0.4536 - val_acc: 0.8395\n",
      "Epoch 20/30\n",
      "200/200 - 35s - loss: 0.4159 - acc: 0.8480 - val_loss: 0.4957 - val_acc: 0.8320\n",
      "Epoch 21/30\n",
      "200/200 - 37s - loss: 0.4047 - acc: 0.8450 - val_loss: 0.4982 - val_acc: 0.8310\n",
      "Epoch 22/30\n",
      "200/200 - 38s - loss: 0.4060 - acc: 0.8453 - val_loss: 0.4725 - val_acc: 0.8385\n",
      "Epoch 23/30\n",
      "200/200 - 38s - loss: 0.4034 - acc: 0.8372 - val_loss: 0.4742 - val_acc: 0.8330\n",
      "Epoch 24/30\n",
      "200/200 - 38s - loss: 0.4007 - acc: 0.8430 - val_loss: 0.5526 - val_acc: 0.8235\n",
      "Epoch 25/30\n",
      "200/200 - 38s - loss: 0.3873 - acc: 0.8553 - val_loss: 0.4781 - val_acc: 0.8345\n",
      "Epoch 26/30\n",
      "200/200 - 38s - loss: 0.3892 - acc: 0.8485 - val_loss: 0.4653 - val_acc: 0.8410\n",
      "Epoch 27/30\n",
      "200/200 - 38s - loss: 0.3931 - acc: 0.8533 - val_loss: 0.4852 - val_acc: 0.8290\n",
      "Epoch 28/30\n",
      "200/200 - 38s - loss: 0.3749 - acc: 0.8575 - val_loss: 0.5119 - val_acc: 0.8315\n",
      "Epoch 29/30\n",
      "200/200 - 39s - loss: 0.3629 - acc: 0.8635 - val_loss: 0.4718 - val_acc: 0.8390\n",
      "Epoch 30/30\n",
      "200/200 - 38s - loss: 0.3818 - acc: 0.8555 - val_loss: 0.4786 - val_acc: 0.8395\n"
     ]
    }
   ],
   "source": [
    "from tensorflow.keras.preprocessing.image import ImageDataGenerator\n",
    "\n",
    "train_datagen = ImageDataGenerator(\n",
    "      rescale=1./255,\n",
    "      rotation_range=40,\n",
    "      width_shift_range=0.2,\n",
    "      height_shift_range=0.2,\n",
    "      shear_range=0.2,\n",
    "      zoom_range=0.2,\n",
    "      horizontal_flip=True,\n",
    "      fill_mode='nearest')\n",
    "\n",
    "test_datagen = ImageDataGenerator(rescale=1./255)\n",
    "\n",
    "train_generator = train_datagen.flow_from_directory(\n",
    "        train_dir,\n",
    "        target_size=(150, 150),\n",
    "        batch_size=20,\n",
    "        class_mode='categorical')\n",
    "\n",
    "validation_generator = test_datagen.flow_from_directory(\n",
    "        validation_dir,\n",
    "        target_size=(150, 150),\n",
    "        batch_size=20,\n",
    "        class_mode='categorical')\n",
    "\n",
    "model2.compile(loss='categorical_crossentropy',\n",
    "              optimizer='adam',\n",
    "              metrics=['acc'])\n",
    "\n",
    "history = model2.fit_generator(\n",
    "      train_generator,\n",
    "      steps_per_epoch=200,\n",
    "      epochs=30,\n",
    "      validation_data=validation_generator,\n",
    "      validation_steps=100,\n",
    "      verbose=2)"
   ]
  },
  {
   "cell_type": "code",
   "execution_count": 0,
   "metadata": {
    "colab": {
     "base_uri": "https://localhost:8080/",
     "height": 545
    },
    "colab_type": "code",
    "id": "zouhu4H5wDim",
    "outputId": "8dcd33b3-0c29-478e-fafb-b894ced68e4e"
   },
   "outputs": [
    {
     "data": {
      "image/png": "[encoded data removed]",
      "text/plain": [
       "<Figure size 432x288 with 1 Axes>"
      ]
     },
     "metadata": {
      "tags": []
     },
     "output_type": "display_data"
    },
    {
     "data": {
      "image/png": "[encoded data removed]",
      "text/plain": [
       "<Figure size 432x288 with 1 Axes>"
      ]
     },
     "metadata": {
      "tags": []
     },
     "output_type": "display_data"
    }
   ],
   "source": [
    "acc = history.history['acc']\n",
    "val_acc = history.history['val_acc']\n",
    "loss = history.history['loss']\n",
    "val_loss = history.history['val_loss']\n",
    "\n",
    "epochs = range(len(acc))\n",
    "\n",
    "plt.plot(epochs, acc, 'bo', label='Training acc')\n",
    "plt.plot(epochs, val_acc, 'b', label='Validation acc')\n",
    "plt.title('Training and validation accuracy')\n",
    "plt.legend()\n",
    "\n",
    "plt.figure()\n",
    "\n",
    "plt.plot(epochs, loss, 'bo', label='Training loss')\n",
    "plt.plot(epochs, val_loss, 'b', label='Validation loss')\n",
    "plt.title('Training and validation loss')\n",
    "plt.legend()\n",
    "\n",
    "plt.show()"
   ]
  },
  {
   "cell_type": "code",
   "execution_count": 0,
   "metadata": {
    "colab": {
     "base_uri": "https://localhost:8080/",
     "height": 187
    },
    "colab_type": "code",
    "id": "fotnwsRiDGVw",
    "outputId": "f1fa4393-c6e7-49aa-8b62-fa17c78d1807"
   },
   "outputs": [
    {
     "name": "stdout",
     "output_type": "stream",
     "text": [
      "Found 799 images belonging to 4 classes.\n",
      "WARNING:tensorflow:sample_weight modes were coerced from\n",
      "  ...\n",
      "    to  \n",
      "  ['...']\n"
     ]
    },
    {
     "name": "stderr",
     "output_type": "stream",
     "text": [
      "WARNING:tensorflow:sample_weight modes were coerced from\n",
      "  ...\n",
      "    to  \n",
      "  ['...']\n"
     ]
    },
    {
     "name": "stdout",
     "output_type": "stream",
     "text": [
      "test acc: 0.89\n"
     ]
    }
   ],
   "source": [
    "test_generator = test_datagen.flow_from_directory(\n",
    "        test_dir,\n",
    "        target_size=(150, 150),\n",
    "        batch_size=20,\n",
    "        class_mode='categorical')\n",
    "\n",
    "test_loss, test_acc = model2.evaluate_generator(test_generator, steps=10)\n",
    "print('test acc:', test_acc)"
   ]
  },
  {
   "cell_type": "code",
   "execution_count": 63,
   "metadata": {
    "colab": {
     "base_uri": "https://localhost:8080/",
     "height": 661
    },
    "colab_type": "code",
    "id": "7xQnkVtAWIky",
    "outputId": "f6a462d2-8398-4b49-d79e-6b89cdb1276a"
   },
   "outputs": [
    {
     "data": {
      "text/html": [
       "<img src=\"https://thumbs.img-sprzedajemy.pl/1000x901c/e0/15/14/kotki-brytyjskie-wegrow-sprzedam-523458646.jpg\"/>"
      ],
      "text/plain": [
       "<IPython.core.display.Image object>"
      ]
     },
     "execution_count": 63,
     "metadata": {
      "tags": []
     },
     "output_type": "execute_result"
    }
   ],
   "source": [
    "from IPython.display import Image\n",
    "from IPython.core.display import HTML \n",
    "Image(url= \"https://thumbs.img-sprzedajemy.pl/1000x901c/e0/15/14/kotki-brytyjskie-wegrow-sprzedam-523458646.jpg\")"
   ]
  },
  {
   "cell_type": "code",
   "execution_count": 0,
   "metadata": {
    "colab": {},
    "colab_type": "code",
    "id": "Kg-lzFvbaj15"
   },
   "outputs": [],
   "source": [
    "import numpy as np\n",
    "from keras.preprocessing import image\n",
    "\n",
    "img_width, img_height = 150, 150\n",
    "img = image.load_img('/content/drive/My Drive/Colab Notebooks/olxcatbritish.jpg', target_size = (img_width, img_height))\n",
    "img = image.img_to_array(img)\n",
    "img = np.expand_dims(img, axis = 0)\n",
    "\n",
    "y_new = model2.predict_classes(img)"
   ]
  },
  {
   "cell_type": "code",
   "execution_count": 95,
   "metadata": {
    "colab": {
     "base_uri": "https://localhost:8080/",
     "height": 51
    },
    "colab_type": "code",
    "id": "K_FykLCIaL24",
    "outputId": "00b039be-7eaf-45fe-9747-e8b21aa9bcf6"
   },
   "outputs": [
    {
     "name": "stdout",
     "output_type": "stream",
     "text": [
      "{'bengal': 0, 'british': 1, 'maine': 2, 'persian': 3}\n",
      "Predicted class=2\n"
     ]
    }
   ],
   "source": [
    "print(train_generator.class_indices)\n",
    "print(\"Predicted class=%s\" % (y_new[0]))"
   ]
  },
  {
   "cell_type": "code",
   "execution_count": 97,
   "metadata": {
    "colab": {
     "base_uri": "https://localhost:8080/",
     "height": 716
    },
    "colab_type": "code",
    "id": "sQfqOjTBfMh4",
    "outputId": "2efee6f9-0688-411f-ecc8-7eaf360be707"
   },
   "outputs": [
    {
     "data": {
      "text/html": [
       "<img src=\"https://thumbs.img-sprzedajemy.pl/1000x901c/4d/01/95/koty-perskie-35-miesieczne-niebywalej-urody-nasielsk-521776565.jpg\"/>"
      ],
      "text/plain": [
       "<IPython.core.display.Image object>"
      ]
     },
     "execution_count": 97,
     "metadata": {
      "tags": []
     },
     "output_type": "execute_result"
    }
   ],
   "source": [
    "Image(url= \"https://thumbs.img-sprzedajemy.pl/1000x901c/4d/01/95/koty-perskie-35-miesieczne-niebywalej-urody-nasielsk-521776565.jpg\")"
   ]
  },
  {
   "cell_type": "code",
   "execution_count": 0,
   "metadata": {
    "colab": {},
    "colab_type": "code",
    "id": "frQVGNM3eYR4"
   },
   "outputs": [],
   "source": [
    "img_width, img_height = 150, 150\n",
    "img = image.load_img('/content/drive/My Drive/Colab Notebooks/perssian_olx.jpg', target_size = (img_width, img_height))\n",
    "img = image.img_to_array(img)\n",
    "img = np.expand_dims(img, axis = 0)\n",
    "\n",
    "y_new = model2.predict_classes(img)"
   ]
  },
  {
   "cell_type": "code",
   "execution_count": 100,
   "metadata": {
    "colab": {
     "base_uri": "https://localhost:8080/",
     "height": 51
    },
    "colab_type": "code",
    "id": "W76_RJu3fUzZ",
    "outputId": "c44e76d1-c09e-4c9e-ff37-4c90e3a0b602"
   },
   "outputs": [
    {
     "name": "stdout",
     "output_type": "stream",
     "text": [
      "{'bengal': 0, 'british': 1, 'maine': 2, 'persian': 3}\n",
      "Predicted class=3\n"
     ]
    }
   ],
   "source": [
    "print(train_generator.class_indices)\n",
    "print(\"Predicted class=%s\" % (y_new[0]))"
   ]
  },
  {
   "cell_type": "code",
   "execution_count": 101,
   "metadata": {
    "colab": {
     "base_uri": "https://localhost:8080/",
     "height": 482
    },
    "colab_type": "code",
    "id": "KtgyRzxvfaq3",
    "outputId": "759052d7-21fc-4dd7-fcc6-ba6fa6113895"
   },
   "outputs": [
    {
     "data": {
      "text/html": [
       "<img src=\"https://apollo-ireland.akamaized.net/v1/files/0q8wq4s78b1b3-PL/image;s=644x461\"/>"
      ],
      "text/plain": [
       "<IPython.core.display.Image object>"
      ]
     },
     "execution_count": 101,
     "metadata": {
      "tags": []
     },
     "output_type": "execute_result"
    }
   ],
   "source": [
    "Image(url= \"https://apollo-ireland.akamaized.net/v1/files/0q8wq4s78b1b3-PL/image;s=644x461\")"
   ]
  },
  {
   "cell_type": "code",
   "execution_count": 102,
   "metadata": {
    "colab": {
     "base_uri": "https://localhost:8080/",
     "height": 51
    },
    "colab_type": "code",
    "id": "335I0Sb8fvfC",
    "outputId": "ea95bfcc-d4eb-4fac-9f5e-cc8e489c0f0c"
   },
   "outputs": [
    {
     "name": "stdout",
     "output_type": "stream",
     "text": [
      "{'bengal': 0, 'british': 1, 'maine': 2, 'persian': 3}\n",
      "Predicted class=0\n"
     ]
    }
   ],
   "source": [
    "img_width, img_height = 150, 150\n",
    "img = image.load_img('/content/drive/My Drive/Colab Notebooks/bengal_olx.jpg', target_size = (img_width, img_height))\n",
    "img = image.img_to_array(img)\n",
    "img = np.expand_dims(img, axis = 0)\n",
    "\n",
    "y_new = model2.predict_classes(img)\n",
    "print(train_generator.class_indices)\n",
    "print(\"Predicted class=%s\" % (y_new[0]))"
   ]
  },
  {
   "cell_type": "code",
   "execution_count": 110,
   "metadata": {
    "colab": {
     "base_uri": "https://localhost:8080/",
     "height": 482
    },
    "colab_type": "code",
    "id": "Shg1xnx9gBi_",
    "outputId": "ebcb221e-405e-46ed-b201-d1278ba74019"
   },
   "outputs": [
    {
     "data": {
      "text/html": [
       "<img src=\"https://apollo-ireland.akamaized.net/v1/files/nhhlazme7mkf-PL/image;s=644x461\"/>"
      ],
      "text/plain": [
       "<IPython.core.display.Image object>"
      ]
     },
     "execution_count": 110,
     "metadata": {
      "tags": []
     },
     "output_type": "execute_result"
    }
   ],
   "source": [
    "Image(url= \"https://apollo-ireland.akamaized.net/v1/files/nhhlazme7mkf-PL/image;s=644x461\")"
   ]
  },
  {
   "cell_type": "code",
   "execution_count": 111,
   "metadata": {
    "colab": {
     "base_uri": "https://localhost:8080/",
     "height": 51
    },
    "colab_type": "code",
    "id": "udrxz2OzgKrf",
    "outputId": "35dcf77c-2a8f-4a99-cf64-b73356c4a9b0"
   },
   "outputs": [
    {
     "name": "stdout",
     "output_type": "stream",
     "text": [
      "{'bengal': 0, 'british': 1, 'maine': 2, 'persian': 3}\n",
      "Predicted class=2\n"
     ]
    }
   ],
   "source": [
    "img_width, img_height = 150, 150\n",
    "img = image.load_img('/content/drive/My Drive/Colab Notebooks/image.jpg', target_size = (img_width, img_height))\n",
    "img = image.img_to_array(img)\n",
    "img = np.expand_dims(img, axis = 0)\n",
    "\n",
    "y_new = model2.predict_classes(img)\n",
    "print(train_generator.class_indices)\n",
    "print(\"Predicted class=%s\" % (y_new[0]))"
   ]
  },
  {
   "cell_type": "code",
   "execution_count": 0,
   "metadata": {
    "colab": {},
    "colab_type": "code",
    "id": "Rx13OKSshAxw"
   },
   "outputs": [],
   "source": []
  }
 ],
 "metadata": {
  "accelerator": "GPU",
  "colab": {
   "collapsed_sections": [],
   "name": "koty02.ipynb",
   "provenance": []
  },
  "kernelspec": {
   "display_name": "Python 3",
   "language": "python",
   "name": "python3"
  },
  "language_info": {
   "codemirror_mode": {
    "name": "ipython",
    "version": 3
   },
   "file_extension": ".py",
   "mimetype": "text/x-python",
   "name": "python",
   "nbconvert_exporter": "python",
   "pygments_lexer": "ipython3",
   "version": "3.7.6"
  }
 },
 "nbformat": 4,
 "nbformat_minor": 1
}
