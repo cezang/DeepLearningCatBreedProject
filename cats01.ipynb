{
 "cells": [
  {
   "cell_type": "code",
   "execution_count": 71,
   "metadata": {},
   "outputs": [],
   "source": [
    "import os\n",
    "import shutil"
   ]
  },
  {
   "cell_type": "code",
   "execution_count": 72,
   "metadata": {},
   "outputs": [],
   "source": [
    "os.chdir(r'C:\\Users\\Cezary\\Desktop\\scrapping\\cats\\images\\bengal_cat')\n",
    "#os.getcwd()\n",
    "bengal_list = os.listdir(os.getcwd())"
   ]
  },
  {
   "cell_type": "code",
   "execution_count": 73,
   "metadata": {
    "scrolled": true
   },
   "outputs": [],
   "source": [
    "os.chdir(r'C:\\Users\\Cezary\\Desktop\\scrapping\\cats\\images\\british_shorthair_cat')\n",
    "#os.getcwd()\n",
    "british_list = os.listdir(os.getcwd())"
   ]
  },
  {
   "cell_type": "code",
   "execution_count": 74,
   "metadata": {},
   "outputs": [],
   "source": [
    "os.chdir(r'C:\\Users\\Cezary\\Desktop\\scrapping\\cats\\images\\maine_coon')\n",
    "#os.getcwd()\n",
    "maine_list = os.listdir(os.getcwd())"
   ]
  },
  {
   "cell_type": "code",
   "execution_count": 75,
   "metadata": {},
   "outputs": [],
   "source": [
    "os.chdir(r'C:\\Users\\Cezary\\Desktop\\scrapping\\cats\\images\\persian_cat')\n",
    "#os.getcwd()\n",
    "persian_list = os.listdir(os.getcwd())"
   ]
  },
  {
   "cell_type": "code",
   "execution_count": 76,
   "metadata": {},
   "outputs": [],
   "source": [
    "#train-val folder\n",
    "base = r'C:\\Users\\Cezary\\Desktop\\scrapping\\cats\\images\\selected'\n",
    "os.mkdir(base)\n",
    "train_dir = os.path.join(base, 'train')\n",
    "os.mkdir(train_dir)\n",
    "validation_dir = os.path.join(base, 'validation')\n",
    "os.mkdir(validation_dir)\n",
    "test_dir = os.path.join(base, 'test')\n",
    "os.mkdir(test_dir)"
   ]
  },
  {
   "cell_type": "code",
   "execution_count": 77,
   "metadata": {},
   "outputs": [],
   "source": [
    "# train directory\n",
    "train_bengal = os.path.join(train_dir, 'bengal')\n",
    "os.mkdir(train_bengal)\n",
    "\n",
    "train_british = os.path.join(train_dir, 'british')\n",
    "os.mkdir(train_british)\n",
    "\n",
    "train_maine = os.path.join(train_dir, 'maine')\n",
    "os.mkdir(train_maine)\n",
    "\n",
    "train_persian = os.path.join(train_dir, 'persian')\n",
    "os.mkdir(train_persian)\n",
    "\n",
    "# Directory with our validation cat pictures\n",
    "validation_bengal = os.path.join(validation_dir, 'bengal')\n",
    "os.mkdir(validation_bengal)\n",
    "\n",
    "validation_british = os.path.join(validation_dir, 'british')\n",
    "os.mkdir(validation_british)\n",
    "\n",
    "validation_maine = os.path.join(validation_dir, 'maine')\n",
    "os.mkdir(validation_maine)\n",
    "\n",
    "validation_persian = os.path.join(validation_dir, 'persian')\n",
    "os.mkdir(validation_persian)\n",
    "\n",
    "\n",
    "# Directory with our test cat pictures\n",
    "test_bengal = os.path.join(test_dir, 'bengal')\n",
    "os.mkdir(test_bengal)\n",
    "\n",
    "test_british = os.path.join(test_dir, 'british')\n",
    "os.mkdir(test_british)\n",
    "\n",
    "test_maine = os.path.join(test_dir, 'maine')\n",
    "os.mkdir(test_maine)\n",
    "\n",
    "test_persian = os.path.join(test_dir, 'persian')\n",
    "os.mkdir(test_persian)"
   ]
  },
  {
   "cell_type": "code",
   "execution_count": 78,
   "metadata": {},
   "outputs": [],
   "source": [
    "bengal_d = r'C:\\Users\\Cezary\\Desktop\\scrapping\\cats\\images\\bengal_cat'\n",
    "british_d = r'C:\\Users\\Cezary\\Desktop\\scrapping\\cats\\images\\british_shorthair_cat'\n",
    "maine_d = r'C:\\Users\\Cezary\\Desktop\\scrapping\\cats\\images\\maine_coon'\n",
    "persian_d = r'C:\\Users\\Cezary\\Desktop\\scrapping\\cats\\images\\persian_cat'\n",
    "\n",
    "# Copy first 1000 cat images to train dir\n",
    "\n",
    "#bengal\n",
    "for i in bengal_list[0:1000]:\n",
    "    src = os.path.join(bengal_d, i)\n",
    "    dst = os.path.join(train_bengal, i)\n",
    "    shutil.copyfile(src, dst)\n",
    "\n",
    "#british\n",
    "for i in british_list[0:1000]:\n",
    "    src = os.path.join(british_d, i)\n",
    "    dst = os.path.join(train_british, i)\n",
    "    shutil.copyfile(src, dst)    \n",
    "\n",
    "#maine\n",
    "for i in maine_list[0:1000]:\n",
    "    src = os.path.join(maine_d, i)\n",
    "    dst = os.path.join(train_maine, i)\n",
    "    shutil.copyfile(src, dst)        \n",
    "\n",
    "#persian    \n",
    "for i in persian_list[0:1000]:\n",
    "    src = os.path.join(persian_d, i)\n",
    "    dst = os.path.join(train_persian, i)\n",
    "    shutil.copyfile(src, dst)        \n",
    "\n",
    "    \n",
    "# Copy next 500 cat images to validation dir\n",
    "#bengal\n",
    "for i in bengal_list[1000:1500]:\n",
    "    src = os.path.join(bengal_d, i)\n",
    "    dst = os.path.join(validation_bengal, i)\n",
    "    shutil.copyfile(src, dst)\n",
    "\n",
    "#british\n",
    "for i in british_list[1000:1500]:\n",
    "    src = os.path.join(british_d, i)\n",
    "    dst = os.path.join(validation_british, i)\n",
    "    shutil.copyfile(src, dst)    \n",
    "\n",
    "#maine\n",
    "for i in maine_list[1000:1500]:\n",
    "    src = os.path.join(maine_d, i)\n",
    "    dst = os.path.join(validation_maine, i)\n",
    "    shutil.copyfile(src, dst)        \n",
    "\n",
    "#persian    \n",
    "for i in persian_list[1000:1500]:\n",
    "    src = os.path.join(persian_d, i)\n",
    "    dst = os.path.join(validation_persian, i)\n",
    "    shutil.copyfile(src, dst)    \n",
    "\n",
    "    \n",
    "# Copy last 200 cat images to test dir\n",
    "#bengal\n",
    "for i in bengal_list[1500:1701]:\n",
    "    src = os.path.join(bengal_d, i)\n",
    "    dst = os.path.join(test_bengal, i)\n",
    "    shutil.copyfile(src, dst)\n",
    "\n",
    "#british\n",
    "for i in british_list[1500:1701]:\n",
    "    src = os.path.join(british_d, i)\n",
    "    dst = os.path.join(test_british, i)\n",
    "    shutil.copyfile(src, dst)    \n",
    "\n",
    "#maine\n",
    "for i in maine_list[1500:1701]:\n",
    "    src = os.path.join(maine_d, i)\n",
    "    dst = os.path.join(test_maine, i)\n",
    "    shutil.copyfile(src, dst)        \n",
    "\n",
    "#persian    \n",
    "for i in persian_list[1500:1701]:\n",
    "    src = os.path.join(persian_d, i)\n",
    "    dst = os.path.join(test_persian, i)\n",
    "    shutil.copyfile(src, dst)   "
   ]
  },
  {
   "cell_type": "code",
   "execution_count": 81,
   "metadata": {},
   "outputs": [],
   "source": [
    "from tensorflow.keras import layers\n",
    "from tensorflow.keras import models\n",
    "\n",
    "model = models.Sequential()\n",
    "model.add(layers.Conv2D(32, (3, 3), activation='relu',\n",
    "                        input_shape=(150, 150, 3)))\n",
    "model.add(layers.MaxPooling2D((2, 2)))\n",
    "model.add(layers.Conv2D(64, (3, 3), activation='relu'))\n",
    "model.add(layers.MaxPooling2D((2, 2)))\n",
    "model.add(layers.Conv2D(128, (3, 3), activation='relu'))\n",
    "model.add(layers.MaxPooling2D((2, 2)))\n",
    "model.add(layers.Conv2D(128, (3, 3), activation='relu'))\n",
    "model.add(layers.MaxPooling2D((2, 2)))\n",
    "model.add(layers.Flatten())\n",
    "model.add(layers.Dense(512, activation='relu'))\n",
    "model.add(layers.Dense(4, activation='softmax'))"
   ]
  },
  {
   "cell_type": "code",
   "execution_count": 82,
   "metadata": {},
   "outputs": [
    {
     "name": "stdout",
     "output_type": "stream",
     "text": [
      "Model: \"sequential_1\"\n",
      "_________________________________________________________________\n",
      "Layer (type)                 Output Shape              Param #   \n",
      "=================================================================\n",
      "conv2d_4 (Conv2D)            (None, 148, 148, 32)      896       \n",
      "_________________________________________________________________\n",
      "max_pooling2d_4 (MaxPooling2 (None, 74, 74, 32)        0         \n",
      "_________________________________________________________________\n",
      "conv2d_5 (Conv2D)            (None, 72, 72, 64)        18496     \n",
      "_________________________________________________________________\n",
      "max_pooling2d_5 (MaxPooling2 (None, 36, 36, 64)        0         \n",
      "_________________________________________________________________\n",
      "conv2d_6 (Conv2D)            (None, 34, 34, 128)       73856     \n",
      "_________________________________________________________________\n",
      "max_pooling2d_6 (MaxPooling2 (None, 17, 17, 128)       0         \n",
      "_________________________________________________________________\n",
      "conv2d_7 (Conv2D)            (None, 15, 15, 128)       147584    \n",
      "_________________________________________________________________\n",
      "max_pooling2d_7 (MaxPooling2 (None, 7, 7, 128)         0         \n",
      "_________________________________________________________________\n",
      "flatten_1 (Flatten)          (None, 6272)              0         \n",
      "_________________________________________________________________\n",
      "dense_2 (Dense)              (None, 512)               3211776   \n",
      "_________________________________________________________________\n",
      "dense_3 (Dense)              (None, 4)                 2052      \n",
      "=================================================================\n",
      "Total params: 3,454,660\n",
      "Trainable params: 3,454,660\n",
      "Non-trainable params: 0\n",
      "_________________________________________________________________\n"
     ]
    }
   ],
   "source": [
    "model.summary()"
   ]
  },
  {
   "cell_type": "code",
   "execution_count": 83,
   "metadata": {},
   "outputs": [],
   "source": [
    "from tensorflow.keras import optimizers\n",
    "\n",
    "model.compile(loss='categorical_crossentropy',\n",
    "              optimizer=optimizers.RMSprop(lr=1e-4),\n",
    "              metrics=['acc'])"
   ]
  },
  {
   "cell_type": "code",
   "execution_count": 84,
   "metadata": {},
   "outputs": [
    {
     "name": "stderr",
     "output_type": "stream",
     "text": [
      "Using TensorFlow backend.\n"
     ]
    },
    {
     "name": "stdout",
     "output_type": "stream",
     "text": [
      "Found 4000 images belonging to 4 classes.\n",
      "Found 2000 images belonging to 4 classes.\n"
     ]
    }
   ],
   "source": [
    "from keras.preprocessing.image import ImageDataGenerator\n",
    "\n",
    "# All images will be rescaled by 1./255\n",
    "train_datagen = ImageDataGenerator(rescale=1./255)\n",
    "test_datagen = ImageDataGenerator(rescale=1./255)\n",
    "\n",
    "train_generator = train_datagen.flow_from_directory(\n",
    "        # katalog docelowy\n",
    "        train_dir,\n",
    "        # zmiana rozdzielczosci na 150 na 150\n",
    "        target_size=(150, 150),\n",
    "        batch_size=20,\n",
    "        # jako ze mamy binarna cross entropie to potrzebujemy binarnych etykiet\n",
    "        class_mode='categorical')\n",
    "\n",
    "validation_generator = test_datagen.flow_from_directory(\n",
    "        validation_dir,\n",
    "        target_size=(150, 150),\n",
    "        batch_size=20,\n",
    "        class_mode='categorical')"
   ]
  },
  {
   "cell_type": "code",
   "execution_count": 85,
   "metadata": {},
   "outputs": [
    {
     "name": "stdout",
     "output_type": "stream",
     "text": [
      "data batch shape: (20, 150, 150, 3)\n",
      "labels batch shape: (20, 4)\n"
     ]
    }
   ],
   "source": [
    "for data_batch, labels_batch in train_generator:\n",
    "    print('data batch shape:', data_batch.shape)\n",
    "    print('labels batch shape:', labels_batch.shape)\n",
    "    break"
   ]
  },
  {
   "cell_type": "code",
   "execution_count": 86,
   "metadata": {},
   "outputs": [
    {
     "name": "stdout",
     "output_type": "stream",
     "text": [
      "Epoch 1/30\n",
      "200/200 [==============================] - 36s 178ms/step - loss: 1.1658 - acc: 0.4753 - val_loss: 1.0316 - val_acc: 0.5765\n",
      "Epoch 2/30\n",
      "200/200 [==============================] - 28s 138ms/step - loss: 1.0039 - acc: 0.5773 - val_loss: 1.0068 - val_acc: 0.5850\n",
      "Epoch 3/30\n",
      "200/200 [==============================] - 28s 140ms/step - loss: 0.9262 - acc: 0.6177 - val_loss: 0.9601 - val_acc: 0.5890\n",
      "Epoch 4/30\n",
      "200/200 [==============================] - 28s 140ms/step - loss: 0.8636 - acc: 0.6482 - val_loss: 0.9159 - val_acc: 0.6305\n",
      "Epoch 5/30\n",
      "200/200 [==============================] - 28s 140ms/step - loss: 0.8235 - acc: 0.6665 - val_loss: 0.8740 - val_acc: 0.6470\n",
      "Epoch 6/30\n",
      "200/200 [==============================] - 28s 141ms/step - loss: 0.7758 - acc: 0.6940 - val_loss: 1.0375 - val_acc: 0.5845\n",
      "Epoch 7/30\n",
      "200/200 [==============================] - 28s 141ms/step - loss: 0.7295 - acc: 0.7070 - val_loss: 0.9493 - val_acc: 0.6250\n",
      "Epoch 8/30\n",
      "200/200 [==============================] - 28s 141ms/step - loss: 0.6978 - acc: 0.7247 - val_loss: 0.8895 - val_acc: 0.6495\n",
      "Epoch 9/30\n",
      "200/200 [==============================] - 28s 141ms/step - loss: 0.6504 - acc: 0.7445 - val_loss: 0.8161 - val_acc: 0.6790\n",
      "Epoch 10/30\n",
      "200/200 [==============================] - 28s 141ms/step - loss: 0.6019 - acc: 0.7713 - val_loss: 0.8557 - val_acc: 0.6720\n",
      "Epoch 11/30\n",
      "200/200 [==============================] - 28s 141ms/step - loss: 0.5642 - acc: 0.7753 - val_loss: 0.8182 - val_acc: 0.6750\n",
      "Epoch 12/30\n",
      "200/200 [==============================] - 28s 142ms/step - loss: 0.5117 - acc: 0.8043 - val_loss: 0.8952 - val_acc: 0.6560\n",
      "Epoch 13/30\n",
      "200/200 [==============================] - 28s 141ms/step - loss: 0.4708 - acc: 0.8267 - val_loss: 0.8205 - val_acc: 0.6900\n",
      "Epoch 14/30\n",
      "200/200 [==============================] - 28s 141ms/step - loss: 0.4151 - acc: 0.8422 - val_loss: 0.9071 - val_acc: 0.6680\n",
      "Epoch 15/30\n",
      "200/200 [==============================] - 28s 142ms/step - loss: 0.3687 - acc: 0.8610 - val_loss: 0.9219 - val_acc: 0.6665\n",
      "Epoch 16/30\n",
      "200/200 [==============================] - 29s 146ms/step - loss: 0.3245 - acc: 0.8817 - val_loss: 0.9125 - val_acc: 0.6740\n",
      "Epoch 17/30\n",
      "200/200 [==============================] - 28s 142ms/step - loss: 0.2745 - acc: 0.9022 - val_loss: 0.9197 - val_acc: 0.7045\n",
      "Epoch 18/30\n",
      "200/200 [==============================] - 28s 142ms/step - loss: 0.2308 - acc: 0.9227 - val_loss: 1.0853 - val_acc: 0.6805\n",
      "Epoch 19/30\n",
      "200/200 [==============================] - 29s 143ms/step - loss: 0.1913 - acc: 0.9400 - val_loss: 1.1262 - val_acc: 0.6665\n",
      "Epoch 20/30\n",
      "200/200 [==============================] - 28s 142ms/step - loss: 0.1580 - acc: 0.9503 - val_loss: 1.0685 - val_acc: 0.6940\n",
      "Epoch 21/30\n",
      "200/200 [==============================] - 28s 142ms/step - loss: 0.1324 - acc: 0.9597 - val_loss: 1.1232 - val_acc: 0.6915\n",
      "Epoch 22/30\n",
      "200/200 [==============================] - 29s 143ms/step - loss: 0.1028 - acc: 0.9710 - val_loss: 1.2517 - val_acc: 0.6875\n",
      "Epoch 23/30\n",
      "200/200 [==============================] - 29s 143ms/step - loss: 0.0852 - acc: 0.9760 - val_loss: 1.3349 - val_acc: 0.6890\n",
      "Epoch 24/30\n",
      "200/200 [==============================] - 28s 142ms/step - loss: 0.0729 - acc: 0.9765 - val_loss: 1.3676 - val_acc: 0.6970\n",
      "Epoch 25/30\n",
      "200/200 [==============================] - 28s 142ms/step - loss: 0.0637 - acc: 0.9825 - val_loss: 1.5093 - val_acc: 0.6900\n",
      "Epoch 26/30\n",
      "200/200 [==============================] - 28s 142ms/step - loss: 0.0472 - acc: 0.9870 - val_loss: 1.4923 - val_acc: 0.6870\n",
      "Epoch 27/30\n",
      "200/200 [==============================] - 29s 145ms/step - loss: 0.0432 - acc: 0.9887 - val_loss: 1.5824 - val_acc: 0.6900\n",
      "Epoch 28/30\n",
      "200/200 [==============================] - 29s 146ms/step - loss: 0.0459 - acc: 0.9865 - val_loss: 1.6725 - val_acc: 0.6830\n",
      "Epoch 29/30\n",
      "200/200 [==============================] - 29s 143ms/step - loss: 0.0424 - acc: 0.9883 - val_loss: 1.5569 - val_acc: 0.7000\n",
      "Epoch 30/30\n",
      "200/200 [==============================] - 28s 142ms/step - loss: 0.0359 - acc: 0.9902 - val_loss: 1.9607 - val_acc: 0.6790\n"
     ]
    }
   ],
   "source": [
    "history = model.fit_generator(\n",
    "      train_generator,\n",
    "      steps_per_epoch=200, #ta 100 \n",
    "      epochs=30,\n",
    "      validation_data=validation_generator,\n",
    "      validation_steps=100) #ta 50 z 1000"
   ]
  },
  {
   "cell_type": "code",
   "execution_count": 87,
   "metadata": {},
   "outputs": [],
   "source": [
    "model.save('cats01.h5')"
   ]
  },
  {
   "cell_type": "code",
   "execution_count": 88,
   "metadata": {},
   "outputs": [
    {
     "data": {
      "image/png": "[encoded data removed]",
      "text/plain": [
       "<Figure size 432x288 with 1 Axes>"
      ]
     },
     "metadata": {
      "needs_background": "light"
     },
     "output_type": "display_data"
    },
    {
     "data": {
      "image/png": "[encoded data removed]",
      "text/plain": [
       "<Figure size 432x288 with 1 Axes>"
      ]
     },
     "metadata": {
      "needs_background": "light"
     },
     "output_type": "display_data"
    }
   ],
   "source": [
    "import matplotlib.pyplot as plt\n",
    "\n",
    "acc = history.history['acc']\n",
    "val_acc = history.history['val_acc']\n",
    "loss = history.history['loss']\n",
    "val_loss = history.history['val_loss']\n",
    "\n",
    "epochs = range(len(acc))\n",
    "\n",
    "plt.plot(epochs, acc, 'bo', label='Training acc')\n",
    "plt.plot(epochs, val_acc, 'b', label='Validation acc')\n",
    "plt.title('Training and validation accuracy')\n",
    "plt.legend()\n",
    "\n",
    "plt.figure()\n",
    "\n",
    "plt.plot(epochs, loss, 'bo', label='Training loss')\n",
    "plt.plot(epochs, val_loss, 'b', label='Validation loss')\n",
    "plt.title('Training and validation loss')\n",
    "plt.legend()\n",
    "\n",
    "plt.show()"
   ]
  },
  {
   "cell_type": "code",
   "execution_count": null,
   "metadata": {},
   "outputs": [],
   "source": []
  }
 ],
 "metadata": {
  "kernelspec": {
   "display_name": "TensorFlow-GPU-1.13",
   "language": "python",
   "name": "tf-gpu"
  },
  "language_info": {
   "codemirror_mode": {
    "name": "ipython",
    "version": 3
   },
   "file_extension": ".py",
   "mimetype": "text/x-python",
   "name": "python",
   "nbconvert_exporter": "python",
   "pygments_lexer": "ipython3",
   "version": "3.7.6"
  }
 },
 "nbformat": 4,
 "nbformat_minor": 4
}
